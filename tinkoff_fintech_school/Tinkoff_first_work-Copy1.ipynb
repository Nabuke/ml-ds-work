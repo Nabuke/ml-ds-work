{
 "cells": [
  {
   "cell_type": "code",
   "execution_count": 66,
   "metadata": {},
   "outputs": [],
   "source": [
    "import pandas as pd\n",
    "import numpy as np\n",
    "from sklearn.model_selection import train_test_split\n",
    "import re\n",
    "import razdel\n",
    "from pymystem3 import Mystem\n",
    "from pymorphy2 import MorphAnalyzer\n",
    "from sklearn.feature_extraction.text import CountVectorizer\n",
    "from sklearn.feature_extraction.text import TfidfVectorizer\n",
    "from sklearn.multiclass import OneVsRestClassifier, OneVsOneClassifier\n",
    "import maru\n"
   ]
  },
  {
   "cell_type": "code",
   "execution_count": 67,
   "metadata": {},
   "outputs": [],
   "source": [
    "def tokenize_with_razdel(text):\n",
    "    return [token.text for token in razdel.tokenize(text)]\n",
    "\n",
    "mystem = Mystem()\n",
    "def lemmatize_with_mystem(text):\n",
    "    return [lemma for lemma in mystem.lemmatize(text) if not lemma.isspace()]\n",
    "\n",
    "pymorphy = MorphAnalyzer()\n",
    "def lemmatize_with_pymorphy(tokens):\n",
    "    return [pymorphy.parse(token)[0].normal_form for token in tokens]\n",
    "\n",
    "\n",
    "idf_vectorizer = TfidfVectorizer()\n",
    "\n",
    "\n",
    "maru_rnn = maru.get_analyzer('rnn')\n",
    "def lemmatize_with_maru(tokens):\n",
    "    return [morph.lemma for morph in maru_rnn.analyze(tokens)]"
   ]
  },
  {
   "cell_type": "code",
   "execution_count": 68,
   "metadata": {},
   "outputs": [
    {
     "data": {
      "text/plain": [
       "(112466, 2)"
      ]
     },
     "execution_count": 68,
     "metadata": {},
     "output_type": "execute_result"
    }
   ],
   "source": [
    "train = pd.read_csv('train.csv')\n",
    "train.shape\n",
    "test = pd.read_csv('test.csv')\n",
    "test.shape"
   ]
  },
  {
   "cell_type": "code",
   "execution_count": 69,
   "metadata": {},
   "outputs": [],
   "source": [
    "real = 0"
   ]
  },
  {
   "cell_type": "code",
   "execution_count": 70,
   "metadata": {},
   "outputs": [],
   "source": [
    "if real == 0:\n",
    "    X_train, X_test, y_train, y_test = train_test_split(train.text, train.label, test_size=0.20, random_state=42)\n",
    "    X_train, X_test, y_train, y_test = train_test_split(X_test, y_test, test_size=0.33, random_state=42)\n",
    "if real == 1:\n",
    "    X_train = train.text\n",
    "    X_test = test.text\n",
    "    y_train = train.label"
   ]
  },
  {
   "cell_type": "code",
   "execution_count": 71,
   "metadata": {},
   "outputs": [
    {
     "data": {
      "text/plain": [
       "((15070,), (15070,), (7424,), (7424,))"
      ]
     },
     "execution_count": 71,
     "metadata": {},
     "output_type": "execute_result"
    }
   ],
   "source": [
    "X_train.shape, y_train.shape, X_test.shape, y_test.shape"
   ]
  },
  {
   "cell_type": "code",
   "execution_count": 72,
   "metadata": {},
   "outputs": [],
   "source": [
    "X_train = pd.DataFrame(X_train, columns=['text'])"
   ]
  },
  {
   "cell_type": "code",
   "execution_count": 73,
   "metadata": {
    "scrolled": false
   },
   "outputs": [],
   "source": [
    "# %%time\n",
    "# texts = []\n",
    "# for i in range(X_train.shape[0]):\n",
    "#     #print (X_train.text[i:i+1].values)\n",
    "#     text = str(X_train.text[i:i+1].values).lower()\n",
    "#     #print ('low ---',text)\n",
    "# #     regex = re.compile(r'(\\W)\\1+')\n",
    "# #     text = regex.sub(r'\\1', text)\n",
    "#     #print ('re1 ---',text)\n",
    "# #     regex = re.compile(r'[^\\w\\s]')\n",
    "# #     text = regex.sub(r' ', text).strip()\n",
    "#     #print ('re2 ---',text)\n",
    "#     text = tokenize_with_razdel(text)\n",
    "#     #print ('token -',text)\n",
    "#     text = lemmatize_with_pymorphy(text)\n",
    "#     #print ('lemma -',text)\n",
    "#     text = \" \".join(text)\n",
    "#     texts.append(text)\n",
    "#     #print (text)\n",
    "#     #print ('')\n",
    "# print ('done')"
   ]
  },
  {
   "cell_type": "code",
   "execution_count": 74,
   "metadata": {},
   "outputs": [],
   "source": [
    "##%%time\n",
    "#vectorizer = CountVectorizer(min_df = 3)\n",
    "#vectorizer.fit_transform(texts).todense().shape"
   ]
  },
  {
   "cell_type": "code",
   "execution_count": 75,
   "metadata": {},
   "outputs": [],
   "source": [
    "#X_train = texts"
   ]
  },
  {
   "cell_type": "code",
   "execution_count": 76,
   "metadata": {},
   "outputs": [],
   "source": [
    "import tqdm\n",
    "from sklearn.svm import LinearSVC,SVC\n",
    "from sklearn.metrics import classification_report"
   ]
  },
  {
   "cell_type": "code",
   "execution_count": 77,
   "metadata": {},
   "outputs": [],
   "source": [
    "def evaluate_vectorizer(vectorizer):\n",
    "    X_train_vec = vectorizer.fit_transform(tqdm.tqdm_notebook(X_train.text.values, desc='Vectorizing train:'))\n",
    "    X_test_vec = vectorizer.transform(tqdm.tqdm_notebook(X_test, desc='Vectorizing test:'))\n",
    "    return X_train_vec, X_test_vec"
   ]
  },
  {
   "cell_type": "code",
   "execution_count": 20,
   "metadata": {},
   "outputs": [
    {
     "data": {
      "application/vnd.jupyter.widget-view+json": {
       "model_id": "488ff39fa77a490eb31e2adcd1492724",
       "version_major": 2,
       "version_minor": 0
      },
      "text/plain": [
       "HBox(children=(IntProgress(value=0, description='Vectorizing train:', max=15070, style=ProgressStyle(descripti…"
      ]
     },
     "metadata": {},
     "output_type": "display_data"
    },
    {
     "name": "stdout",
     "output_type": "stream",
     "text": [
      "\n"
     ]
    },
    {
     "data": {
      "application/vnd.jupyter.widget-view+json": {
       "model_id": "9d985d5ce23f4c5aacfc3a7477ca424b",
       "version_major": 2,
       "version_minor": 0
      },
      "text/plain": [
       "HBox(children=(IntProgress(value=0, description='Vectorizing test:', max=7424, style=ProgressStyle(description…"
      ]
     },
     "metadata": {},
     "output_type": "display_data"
    },
    {
     "name": "stdout",
     "output_type": "stream",
     "text": [
      "\n"
     ]
    }
   ],
   "source": [
    "#X_train_vec, X_test_vec = evaluate_vectorizer(CountVectorizer(min_df=2))"
   ]
  },
  {
   "cell_type": "code",
   "execution_count": 63,
   "metadata": {},
   "outputs": [],
   "source": [
    "#answers = []"
   ]
  },
  {
   "cell_type": "code",
   "execution_count": 64,
   "metadata": {},
   "outputs": [
    {
     "name": "stdout",
     "output_type": "stream",
     "text": [
      "              precision    recall  f1-score   support\n",
      "\n",
      "           0       0.62      0.55      0.58      1440\n",
      "           1       0.97      0.95      0.96      3278\n",
      "           2       0.74      0.81      0.77      2706\n",
      "\n",
      "   micro avg       0.82      0.82      0.82      7424\n",
      "   macro avg       0.78      0.77      0.77      7424\n",
      "weighted avg       0.82      0.82      0.82      7424\n",
      "\n"
     ]
    }
   ],
   "source": [
    "# model = LinearSVC(random_state=42)\n",
    "# model.fit(X_train_vec, y_train)\n",
    "# predictions = model.predict(X_test_vec)\n",
    "# answers.append(predictions)\n",
    "# print(classification_report(y_test, predictions))"
   ]
  },
  {
   "cell_type": "code",
   "execution_count": 65,
   "metadata": {},
   "outputs": [
    {
     "name": "stdout",
     "output_type": "stream",
     "text": [
      "              precision    recall  f1-score   support\n",
      "\n",
      "           0       0.64      0.53      0.58      1440\n",
      "           1       0.97      0.94      0.96      3278\n",
      "           2       0.73      0.83      0.78      2706\n",
      "\n",
      "   micro avg       0.82      0.82      0.82      7424\n",
      "   macro avg       0.78      0.77      0.77      7424\n",
      "weighted avg       0.82      0.82      0.82      7424\n",
      "\n"
     ]
    }
   ],
   "source": [
    "# model = OneVsOneClassifier(SVC(kernel='linear'))\n",
    "# model.fit(X_train_vec, y_train)\n",
    "# predictions = model.predict(X_test_vec)\n",
    "# answers.append(predictions)\n",
    "# print(classification_report(y_test, predictions))"
   ]
  },
  {
   "cell_type": "code",
   "execution_count": 58,
   "metadata": {},
   "outputs": [],
   "source": [
    "# answers = pd.DataFrame(answers).T"
   ]
  },
  {
   "cell_type": "code",
   "execution_count": 59,
   "metadata": {},
   "outputs": [],
   "source": [
    "# from sklearn.neural_network  import MLPClassifier"
   ]
  },
  {
   "cell_type": "code",
   "execution_count": 61,
   "metadata": {},
   "outputs": [
    {
     "name": "stdout",
     "output_type": "stream",
     "text": [
      "              precision    recall  f1-score   support\n",
      "\n",
      "           0       0.62      0.55      0.58      1440\n",
      "           1       0.97      0.95      0.96      3278\n",
      "           2       0.74      0.81      0.77      2706\n",
      "\n",
      "   micro avg       0.82      0.82      0.82      7424\n",
      "   macro avg       0.78      0.77      0.77      7424\n",
      "weighted avg       0.82      0.82      0.82      7424\n",
      "\n"
     ]
    }
   ],
   "source": [
    "# model = MLPClassifier()\n",
    "# model.fit(answers,y_test)\n",
    "# predictions = model.predict(answers)\n",
    "# print(classification_report(y_test, predictions))"
   ]
  },
  {
   "cell_type": "code",
   "execution_count": null,
   "metadata": {},
   "outputs": [],
   "source": []
  },
  {
   "cell_type": "code",
   "execution_count": null,
   "metadata": {},
   "outputs": [],
   "source": [
    "# model = LinearSVC(random_state=42)\n",
    "#     #model = OneVsOneClassifier(SVC(kernel='linear'))\n",
    "#     print ('begin training')\n",
    "#  predictions = model.predict(X_test_vec)\n",
    "   \n",
    "#     model.fit(X, y_train)\n",
    "#        #print(classification_report(y_test, predictions))"
   ]
  },
  {
   "cell_type": "code",
   "execution_count": 29,
   "metadata": {},
   "outputs": [
    {
     "data": {
      "application/vnd.jupyter.widget-view+json": {
       "model_id": "9534564c4ede4159bfed0c4c566c08e1",
       "version_major": 2,
       "version_minor": 0
      },
      "text/plain": [
       "HBox(children=(IntProgress(value=0, description='Vectorizing train:', max=89973, style=ProgressStyle(descripti…"
      ]
     },
     "metadata": {},
     "output_type": "display_data"
    },
    {
     "name": "stdout",
     "output_type": "stream",
     "text": [
      "\n",
      "begin training\n"
     ]
    },
    {
     "name": "stderr",
     "output_type": "stream",
     "text": [
      "C:\\Users\\1INVESTOR\\Anaconda3\\envs\\py36\\lib\\site-packages\\sklearn\\svm\\base.py:931: ConvergenceWarning: Liblinear failed to converge, increase the number of iterations.\n",
      "  \"the number of iterations.\", ConvergenceWarning)\n"
     ]
    },
    {
     "data": {
      "application/vnd.jupyter.widget-view+json": {
       "model_id": "e687ff2d345e40deaf34bf8ad97b9548",
       "version_major": 2,
       "version_minor": 0
      },
      "text/plain": [
       "HBox(children=(IntProgress(value=0, description='Vectorizing test:', max=22494, style=ProgressStyle(descriptio…"
      ]
     },
     "metadata": {},
     "output_type": "display_data"
    },
    {
     "name": "stdout",
     "output_type": "stream",
     "text": [
      "\n"
     ]
    }
   ],
   "source": [
    "#predictions_COUNT = evaluate_vectorizer(CountVectorizer(min_df=2));"
   ]
  },
  {
   "cell_type": "code",
   "execution_count": 43,
   "metadata": {},
   "outputs": [
    {
     "data": {
      "application/vnd.jupyter.widget-view+json": {
       "model_id": "5ec2c5bebdb3486f94a6eead858d0a1a",
       "version_major": 2,
       "version_minor": 0
      },
      "text/plain": [
       "HBox(children=(IntProgress(value=0, description='Vectorizing train:', max=112467, style=ProgressStyle(descript…"
      ]
     },
     "metadata": {},
     "output_type": "display_data"
    },
    {
     "name": "stdout",
     "output_type": "stream",
     "text": [
      "\n",
      "begin training\n"
     ]
    },
    {
     "data": {
      "application/vnd.jupyter.widget-view+json": {
       "model_id": "073720d38380492a8466a45872698442",
       "version_major": 2,
       "version_minor": 0
      },
      "text/plain": [
       "HBox(children=(IntProgress(value=0, description='Vectorizing test:', max=112466, style=ProgressStyle(descripti…"
      ]
     },
     "metadata": {},
     "output_type": "display_data"
    },
    {
     "name": "stdout",
     "output_type": "stream",
     "text": [
      "\n"
     ]
    }
   ],
   "source": [
    "predictions = evaluate_vectorizer(TfidfVectorizer(min_df=2));"
   ]
  },
  {
   "cell_type": "code",
   "execution_count": 46,
   "metadata": {},
   "outputs": [
    {
     "data": {
      "application/vnd.jupyter.widget-view+json": {
       "model_id": "e03c8d05723f4bd8a9f50ec18e713a5d",
       "version_major": 2,
       "version_minor": 0
      },
      "text/plain": [
       "HBox(children=(IntProgress(value=0, description='Vectorizing train:', max=112467, style=ProgressStyle(descript…"
      ]
     },
     "metadata": {},
     "output_type": "display_data"
    },
    {
     "name": "stdout",
     "output_type": "stream",
     "text": [
      "\n",
      "begin training\n"
     ]
    },
    {
     "data": {
      "application/vnd.jupyter.widget-view+json": {
       "model_id": "a41139f706944425ac50b7b070937fad",
       "version_major": 2,
       "version_minor": 0
      },
      "text/plain": [
       "HBox(children=(IntProgress(value=0, description='Vectorizing test:', max=112466, style=ProgressStyle(descripti…"
      ]
     },
     "metadata": {},
     "output_type": "display_data"
    },
    {
     "name": "stdout",
     "output_type": "stream",
     "text": [
      "\n"
     ]
    }
   ],
   "source": [
    "predictions_tokenizer = evaluate_vectorizer(TfidfVectorizer(min_df=2, tokenizer=tokenize_with_razdel));"
   ]
  },
  {
   "cell_type": "code",
   "execution_count": 78,
   "metadata": {},
   "outputs": [
    {
     "data": {
      "application/vnd.jupyter.widget-view+json": {
       "model_id": "ffef5d8c90fa4b3092b918c82fcd53e1",
       "version_major": 2,
       "version_minor": 0
      },
      "text/plain": [
       "HBox(children=(IntProgress(value=0, description='Vectorizing train:', max=15070, style=ProgressStyle(descripti…"
      ]
     },
     "metadata": {},
     "output_type": "display_data"
    },
    {
     "name": "stdout",
     "output_type": "stream",
     "text": [
      "\n"
     ]
    },
    {
     "data": {
      "application/vnd.jupyter.widget-view+json": {
       "model_id": "3f305c419e1b4e5789f035bde96cf884",
       "version_major": 2,
       "version_minor": 0
      },
      "text/plain": [
       "HBox(children=(IntProgress(value=0, description='Vectorizing test:', max=7424, style=ProgressStyle(description…"
      ]
     },
     "metadata": {},
     "output_type": "display_data"
    },
    {
     "name": "stdout",
     "output_type": "stream",
     "text": [
      "\n"
     ]
    }
   ],
   "source": [
    "tfidf_vectorizer = TfidfVectorizer(\n",
    "    min_df=2, \n",
    "    tokenizer=lambda text: lemmatize_with_maru(tokenize_with_razdel(text)),\n",
    ")\n",
    "X_train_vec, X_test_vec = evaluate_vectorizer(tfidf_vectorizer)"
   ]
  },
  {
   "cell_type": "code",
   "execution_count": 83,
   "metadata": {},
   "outputs": [
    {
     "data": {
      "text/html": [
       "<div>\n",
       "<style scoped>\n",
       "    .dataframe tbody tr th:only-of-type {\n",
       "        vertical-align: middle;\n",
       "    }\n",
       "\n",
       "    .dataframe tbody tr th {\n",
       "        vertical-align: top;\n",
       "    }\n",
       "\n",
       "    .dataframe thead th {\n",
       "        text-align: right;\n",
       "    }\n",
       "</style>\n",
       "<table border=\"1\" class=\"dataframe\">\n",
       "  <thead>\n",
       "    <tr style=\"text-align: right;\">\n",
       "      <th></th>\n",
       "      <th>text</th>\n",
       "    </tr>\n",
       "  </thead>\n",
       "  <tbody>\n",
       "    <tr>\n",
       "      <th>88984</th>\n",
       "      <td>2 или 3 - в данном случае спорно.</td>\n",
       "    </tr>\n",
       "    <tr>\n",
       "      <th>16009</th>\n",
       "      <td>П + П КОНФИДЕНЦЫАЛЬНО 093 280 93 53</td>\n",
       "    </tr>\n",
       "    <tr>\n",
       "      <th>8633</th>\n",
       "      <td>Кажется, p(сказал что болен|на самом деле боле...</td>\n",
       "    </tr>\n",
       "    <tr>\n",
       "      <th>88359</th>\n",
       "      <td>быстро работает... смех в том что БД в докере ...</td>\n",
       "    </tr>\n",
       "    <tr>\n",
       "      <th>60718</th>\n",
       "      <td>Мур-мур мой мышка!Цёмаю обнимаю тебя мой сладк...</td>\n",
       "    </tr>\n",
       "    <tr>\n",
       "      <th>48310</th>\n",
       "      <td>м З7 познакомлюсь с женщиной ... 0930983056</td>\n",
       "    </tr>\n",
       "    <tr>\n",
       "      <th>94846</th>\n",
       "      <td>я читала одку книгу, и там высказывалась мысль...</td>\n",
       "    </tr>\n",
       "    <tr>\n",
       "      <th>45501</th>\n",
       "      <td>HOROSHIY PAREN 27/173 ISHU DEVUSHKU DLYA S/O S...</td>\n",
       "    </tr>\n",
       "    <tr>\n",
       "      <th>17164</th>\n",
       "      <td>логарифм от каждой записи, потом же по этим ло...</td>\n",
       "    </tr>\n",
       "    <tr>\n",
       "      <th>33805</th>\n",
       "      <td>А о каком конкурсе вы говорите?</td>\n",
       "    </tr>\n",
       "    <tr>\n",
       "      <th>14558</th>\n",
       "      <td>таки в моей молодости это был звук, не знал я ...</td>\n",
       "    </tr>\n",
       "    <tr>\n",
       "      <th>84286</th>\n",
       "      <td>П ИЩУ МОЛОДЕНЬКОГО П  18-20 лет. СМС О СЕБЕ ММ...</td>\n",
       "    </tr>\n",
       "    <tr>\n",
       "      <th>9548</th>\n",
       "      <td>ну если честно это выглядит как костыль</td>\n",
       "    </tr>\n",
       "    <tr>\n",
       "      <th>105975</th>\n",
       "      <td>Я вот не очень верю!Потому что был печальный о...</td>\n",
       "    </tr>\n",
       "    <tr>\n",
       "      <th>44943</th>\n",
       "      <td>п 27  для общения познакомится с девушкой  095...</td>\n",
       "    </tr>\n",
       "    <tr>\n",
       "      <th>79717</th>\n",
       "      <td>Дівчина 20р. Шукає хлопця. Львівська область.</td>\n",
       "    </tr>\n",
       "    <tr>\n",
       "      <th>94833</th>\n",
       "      <td>Девушка хочет найти друга для дружбы неболее е...</td>\n",
       "    </tr>\n",
       "    <tr>\n",
       "      <th>26698</th>\n",
       "      <td>для дружбы есть девушки с Днепра?0669577783</td>\n",
       "    </tr>\n",
       "    <tr>\n",
       "      <th>52888</th>\n",
       "      <td>ГОЛЬФ Д.САША  ВАС НIХТО НЕЗАБУВ  ДЕРЖIЦЯ ТАМ  ...</td>\n",
       "    </tr>\n",
       "    <tr>\n",
       "      <th>45319</th>\n",
       "      <td>Ну митап митапом, но я вот дочку в первый клас...</td>\n",
       "    </tr>\n",
       "    <tr>\n",
       "      <th>93546</th>\n",
       "      <td>Aleksey (3) увеличил репутацию Oleg Cheremisin...</td>\n",
       "    </tr>\n",
       "    <tr>\n",
       "      <th>50419</th>\n",
       "      <td>как мой препод по технологии в школе</td>\n",
       "    </tr>\n",
       "    <tr>\n",
       "      <th>37090</th>\n",
       "      <td>\"у нас не работает N, как как пробиваться\"</td>\n",
       "    </tr>\n",
       "    <tr>\n",
       "      <th>79719</th>\n",
       "      <td>Я тож так думаю. Хорошо что в России этот мара...</td>\n",
       "    </tr>\n",
       "    <tr>\n",
       "      <th>88854</th>\n",
       "      <td>А оно без ML тогда не решается?</td>\n",
       "    </tr>\n",
       "    <tr>\n",
       "      <th>10963</th>\n",
       "      <td>статья пишу с резюме... тут нюансы появились</td>\n",
       "    </tr>\n",
       "    <tr>\n",
       "      <th>34122</th>\n",
       "      <td>попробуй так:\\n- впиши оба давления в 250 как ...</td>\n",
       "    </tr>\n",
       "    <tr>\n",
       "      <th>40827</th>\n",
       "      <td>М. 50 г. ИЩЕТ Ж ДЛЯ  НЕЖНЫХ ВСТРЕЧ и С/О   066...</td>\n",
       "    </tr>\n",
       "    <tr>\n",
       "      <th>97508</th>\n",
       "      <td>девушки привет)) жду!!!! 0961021076 Егор</td>\n",
       "    </tr>\n",
       "    <tr>\n",
       "      <th>10474</th>\n",
       "      <td>инфляция это же процесс, откуда у него карта</td>\n",
       "    </tr>\n",
       "    <tr>\n",
       "      <th>...</th>\n",
       "      <td>...</td>\n",
       "    </tr>\n",
       "    <tr>\n",
       "      <th>101122</th>\n",
       "      <td>https://tarantool.io/en/developers/</td>\n",
       "    </tr>\n",
       "    <tr>\n",
       "      <th>73518</th>\n",
       "      <td>Чтоб не мучить сайт пока он мне так ответит - ...</td>\n",
       "    </tr>\n",
       "    <tr>\n",
       "      <th>90206</th>\n",
       "      <td>п.19 лет.девушки пишите.0935194695</td>\n",
       "    </tr>\n",
       "    <tr>\n",
       "      <th>66751</th>\n",
       "      <td>ЗАЯ я тибя очень люблю я хочю быть только с то...</td>\n",
       "    </tr>\n",
       "    <tr>\n",
       "      <th>63774</th>\n",
       "      <td>я бы ответил тут, но ты уже спросил в ODS...</td>\n",
       "    </tr>\n",
       "    <tr>\n",
       "      <th>15922</th>\n",
       "      <td>Феликс Морда НЕ ЕШЬ МНОГО ТЫ УЖЕ 100КГ КАК ТАМ...</td>\n",
       "    </tr>\n",
       "    <tr>\n",
       "      <th>66510</th>\n",
       "      <td>С мускулом это уже не простые задачи</td>\n",
       "    </tr>\n",
       "    <tr>\n",
       "      <th>20091</th>\n",
       "      <td>ИЩУ СВОЮ СУДЬБУ...я Ж-43. Смс 093 842 26 77. З...</td>\n",
       "    </tr>\n",
       "    <tr>\n",
       "      <th>50166</th>\n",
       "      <td>так это локально будет, не нужен вообще внешни...</td>\n",
       "    </tr>\n",
       "    <tr>\n",
       "      <th>2584</th>\n",
       "      <td>Ну генераторы имеют интерфейс итератора. Но эт...</td>\n",
       "    </tr>\n",
       "    <tr>\n",
       "      <th>24436</th>\n",
       "      <td>Ира (малыш) прости что так тебя обидел.Я не бы...</td>\n",
       "    </tr>\n",
       "    <tr>\n",
       "      <th>6213</th>\n",
       "      <td>Есть PlaidML, он умеет в Radeon'ы и дружит с к...</td>\n",
       "    </tr>\n",
       "    <tr>\n",
       "      <th>36318</th>\n",
       "      <td>П21 готов для редких встреч с Д21:0632616646</td>\n",
       "    </tr>\n",
       "    <tr>\n",
       "      <th>53908</th>\n",
       "      <td>Кхм, а если попробовать добавить в массив все ...</td>\n",
       "    </tr>\n",
       "    <tr>\n",
       "      <th>5644</th>\n",
       "      <td>познакомлюсь с дев.18-20лет мне 20 0963166634 ...</td>\n",
       "    </tr>\n",
       "    <tr>\n",
       "      <th>36099</th>\n",
       "      <td>ValueError: invalid literal for int() with bas...</td>\n",
       "    </tr>\n",
       "    <tr>\n",
       "      <th>98975</th>\n",
       "      <td>адекватный парень 25лет. Пообщаюсь с нормально...</td>\n",
       "    </tr>\n",
       "    <tr>\n",
       "      <th>24595</th>\n",
       "      <td>метрику нового соревнования, не спрашивай чо з...</td>\n",
       "    </tr>\n",
       "    <tr>\n",
       "      <th>22718</th>\n",
       "      <td>Мне интересно, откуда вы берете год?</td>\n",
       "    </tr>\n",
       "    <tr>\n",
       "      <th>25388</th>\n",
       "      <td>а хотя хз. я еще не дожил</td>\n",
       "    </tr>\n",
       "    <tr>\n",
       "      <th>25330</th>\n",
       "      <td>Симпатичная девушка скучает дома одна познаком...</td>\n",
       "    </tr>\n",
       "    <tr>\n",
       "      <th>43178</th>\n",
       "      <td>призовой фонд теперь *3 000 000* рублей\\nнет д...</td>\n",
       "    </tr>\n",
       "    <tr>\n",
       "      <th>97149</th>\n",
       "      <td>Парень 26/190/86 ищет красивую девушку для соз...</td>\n",
       "    </tr>\n",
       "    <tr>\n",
       "      <th>40547</th>\n",
       "      <td>Мужщ 38 познак с дев женщ для приятного отдыха...</td>\n",
       "    </tr>\n",
       "    <tr>\n",
       "      <th>13557</th>\n",
       "      <td>оййй, не мтс-гео, а райф же</td>\n",
       "    </tr>\n",
       "    <tr>\n",
       "      <th>70095</th>\n",
       "      <td>п. 34   Ищу свою половинку и спутницу по жизни...</td>\n",
       "    </tr>\n",
       "    <tr>\n",
       "      <th>44094</th>\n",
       "      <td>Мне, блин, контекстная реклама покупки квартир...</td>\n",
       "    </tr>\n",
       "    <tr>\n",
       "      <th>59012</th>\n",
       "      <td>Телец. Парень  ищет девушку с днепра СМС 06365...</td>\n",
       "    </tr>\n",
       "    <tr>\n",
       "      <th>9281</th>\n",
       "      <td>п масаж для.д.без комплексов.0980310609.</td>\n",
       "    </tr>\n",
       "    <tr>\n",
       "      <th>108733</th>\n",
       "      <td>Д и ж если есть желание общаться звоните. Рэм....</td>\n",
       "    </tr>\n",
       "  </tbody>\n",
       "</table>\n",
       "<p>15070 rows × 1 columns</p>\n",
       "</div>"
      ],
      "text/plain": [
       "                                                     text\n",
       "88984                   2 или 3 - в данном случае спорно.\n",
       "16009                 П + П КОНФИДЕНЦЫАЛЬНО 093 280 93 53\n",
       "8633    Кажется, p(сказал что болен|на самом деле боле...\n",
       "88359   быстро работает... смех в том что БД в докере ...\n",
       "60718   Мур-мур мой мышка!Цёмаю обнимаю тебя мой сладк...\n",
       "48310         м З7 познакомлюсь с женщиной ... 0930983056\n",
       "94846   я читала одку книгу, и там высказывалась мысль...\n",
       "45501   HOROSHIY PAREN 27/173 ISHU DEVUSHKU DLYA S/O S...\n",
       "17164   логарифм от каждой записи, потом же по этим ло...\n",
       "33805                     А о каком конкурсе вы говорите?\n",
       "14558   таки в моей молодости это был звук, не знал я ...\n",
       "84286   П ИЩУ МОЛОДЕНЬКОГО П  18-20 лет. СМС О СЕБЕ ММ...\n",
       "9548              ну если честно это выглядит как костыль\n",
       "105975  Я вот не очень верю!Потому что был печальный о...\n",
       "44943   п 27  для общения познакомится с девушкой  095...\n",
       "79717       Дівчина 20р. Шукає хлопця. Львівська область.\n",
       "94833   Девушка хочет найти друга для дружбы неболее е...\n",
       "26698         для дружбы есть девушки с Днепра?0669577783\n",
       "52888   ГОЛЬФ Д.САША  ВАС НIХТО НЕЗАБУВ  ДЕРЖIЦЯ ТАМ  ...\n",
       "45319   Ну митап митапом, но я вот дочку в первый клас...\n",
       "93546   Aleksey (3) увеличил репутацию Oleg Cheremisin...\n",
       "50419                как мой препод по технологии в школе\n",
       "37090          \"у нас не работает N, как как пробиваться\"\n",
       "79719   Я тож так думаю. Хорошо что в России этот мара...\n",
       "88854                     А оно без ML тогда не решается?\n",
       "10963        статья пишу с резюме... тут нюансы появились\n",
       "34122   попробуй так:\\n- впиши оба давления в 250 как ...\n",
       "40827   М. 50 г. ИЩЕТ Ж ДЛЯ  НЕЖНЫХ ВСТРЕЧ и С/О   066...\n",
       "97508            девушки привет)) жду!!!! 0961021076 Егор\n",
       "10474        инфляция это же процесс, откуда у него карта\n",
       "...                                                   ...\n",
       "101122                https://tarantool.io/en/developers/\n",
       "73518   Чтоб не мучить сайт пока он мне так ответит - ...\n",
       "90206                  п.19 лет.девушки пишите.0935194695\n",
       "66751   ЗАЯ я тибя очень люблю я хочю быть только с то...\n",
       "63774        я бы ответил тут, но ты уже спросил в ODS...\n",
       "15922   Феликс Морда НЕ ЕШЬ МНОГО ТЫ УЖЕ 100КГ КАК ТАМ...\n",
       "66510                С мускулом это уже не простые задачи\n",
       "20091   ИЩУ СВОЮ СУДЬБУ...я Ж-43. Смс 093 842 26 77. З...\n",
       "50166   так это локально будет, не нужен вообще внешни...\n",
       "2584    Ну генераторы имеют интерфейс итератора. Но эт...\n",
       "24436   Ира (малыш) прости что так тебя обидел.Я не бы...\n",
       "6213    Есть PlaidML, он умеет в Radeon'ы и дружит с к...\n",
       "36318        П21 готов для редких встреч с Д21:0632616646\n",
       "53908   Кхм, а если попробовать добавить в массив все ...\n",
       "5644    познакомлюсь с дев.18-20лет мне 20 0963166634 ...\n",
       "36099   ValueError: invalid literal for int() with bas...\n",
       "98975   адекватный парень 25лет. Пообщаюсь с нормально...\n",
       "24595   метрику нового соревнования, не спрашивай чо з...\n",
       "22718                Мне интересно, откуда вы берете год?\n",
       "25388                           а хотя хз. я еще не дожил\n",
       "25330   Симпатичная девушка скучает дома одна познаком...\n",
       "43178   призовой фонд теперь *3 000 000* рублей\\nнет д...\n",
       "97149   Парень 26/190/86 ищет красивую девушку для соз...\n",
       "40547   Мужщ 38 познак с дев женщ для приятного отдыха...\n",
       "13557                         оййй, не мтс-гео, а райф же\n",
       "70095   п. 34   Ищу свою половинку и спутницу по жизни...\n",
       "44094   Мне, блин, контекстная реклама покупки квартир...\n",
       "59012   Телец. Парень  ищет девушку с днепра СМС 06365...\n",
       "9281             п масаж для.д.без комплексов.0980310609.\n",
       "108733  Д и ж если есть желание общаться звоните. Рэм....\n",
       "\n",
       "[15070 rows x 1 columns]"
      ]
     },
     "execution_count": 83,
     "metadata": {},
     "output_type": "execute_result"
    }
   ],
   "source": [
    "X_train"
   ]
  },
  {
   "cell_type": "code",
   "execution_count": null,
   "metadata": {},
   "outputs": [],
   "source": []
  },
  {
   "cell_type": "code",
   "execution_count": null,
   "metadata": {},
   "outputs": [],
   "source": []
  },
  {
   "cell_type": "code",
   "execution_count": 52,
   "metadata": {},
   "outputs": [],
   "source": [
    "answers = pd.DataFrame(predictions_maru).reset_index()\n",
    "answers.columns = ['id','label']\n",
    "answers.to_csv('answers_svc_linear_maru.csv',index=False)"
   ]
  },
  {
   "cell_type": "code",
   "execution_count": null,
   "metadata": {},
   "outputs": [],
   "source": []
  },
  {
   "cell_type": "code",
   "execution_count": null,
   "metadata": {},
   "outputs": [],
   "source": [
    "sample = pd.read_csv('sample.csv')\n",
    "sample.head(2)"
   ]
  },
  {
   "cell_type": "code",
   "execution_count": null,
   "metadata": {},
   "outputs": [],
   "source": [
    "answers.head(2)"
   ]
  },
  {
   "cell_type": "code",
   "execution_count": null,
   "metadata": {},
   "outputs": [],
   "source": []
  }
 ],
 "metadata": {
  "kernelspec": {
   "display_name": "Python (tinkoff)",
   "language": "python",
   "name": "env"
  },
  "language_info": {
   "codemirror_mode": {
    "name": "ipython",
    "version": 3
   },
   "file_extension": ".py",
   "mimetype": "text/x-python",
   "name": "python",
   "nbconvert_exporter": "python",
   "pygments_lexer": "ipython3",
   "version": "3.6.8"
  }
 },
 "nbformat": 4,
 "nbformat_minor": 2
}
