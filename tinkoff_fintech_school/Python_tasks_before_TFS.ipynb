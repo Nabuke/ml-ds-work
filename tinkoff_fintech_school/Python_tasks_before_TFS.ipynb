{
 "cells": [
  {
   "cell_type": "code",
   "execution_count": null,
   "metadata": {},
   "outputs": [],
   "source": [
    "sum = 0\n",
    "for i in range(40):\n",
    "    a = input()\n",
    "    if a=='': break\n",
    "    sum += int(a)\n",
    "    i+=1\n",
    "print (int(sum))"
   ]
  },
  {
   "cell_type": "code",
   "execution_count": null,
   "metadata": {},
   "outputs": [],
   "source": []
  },
  {
   "cell_type": "code",
   "execution_count": null,
   "metadata": {},
   "outputs": [],
   "source": [
    "def num_palindromes(a):\n",
    "    count = 0\n",
    "    for i in range(a):\n",
    "        if str(i) == str(i)[::-1]:\n",
    "            count += 1\n",
    "    return count\n",
    "a = int(input())\n",
    "print (num_palindromes(a))"
   ]
  },
  {
   "cell_type": "code",
   "execution_count": null,
   "metadata": {},
   "outputs": [],
   "source": [
    "def f(string, n):\n",
    "    chars =  []\n",
    "    alpha_chars = filter(lambda char: char.isalpha(), string)\n",
    "    greater_chars = 0\n",
    "    for char in list(set(alpha_chars)):\n",
    "        if string.count(char) > n:\n",
    "            chars.append(char)\n",
    "            greater_chars += 1\n",
    "    s1=''.join(chars)\n",
    "    return s1\n",
    "string = input()\n",
    "print (f(string,1))"
   ]
  },
  {
   "cell_type": "code",
   "execution_count": 44,
   "metadata": {},
   "outputs": [
    {
     "name": "stdout",
     "output_type": "stream",
     "text": [
      "10\n",
      "3\n",
      "8 10\n",
      "i_0 =8\n",
      "j_1 =10\n",
      "2 9\n",
      "i_2 =2\n",
      "j_3 =9\n",
      "1 3\n",
      "i_4 =1\n",
      "j_5 =3\n",
      "1\n"
     ]
    }
   ],
   "source": [
    "len_paper = int(input())\n",
    "count_change = int(input())\n",
    "for i in range(count_change):\n",
    "    string = input()\n",
    "    values = string.split()\n",
    "    exec('i_%s =%s'%(i*2,values[0]))\n",
    "    exec('i_%s =%s'%(i*2+1,values[1]))\n",
    "msgs = 0\n",
    "for i in list(range((count_change-1)))[::-1]:\n",
    "    exec('if i_%s<=i_%s and i_%s>=i_%s: a=1'%((i+1)*2+1,i*2+1,(i+1)*2+1,i*2))\n",
    "    exec('if i_%s<=i_%s and i_%s>=i_%s: b=1'%((i+1)*2+1,i*2+1,(i+1)*2+1,i*2))\n",
    "    if a!=1 and b!=1:\n",
    "        msgs+=1\n",
    "msgs+=1\n",
    "print (msgs)\n"
   ]
  },
  {
   "cell_type": "code",
   "execution_count": 43,
   "metadata": {},
   "outputs": [
    {
     "name": "stdout",
     "output_type": "stream",
     "text": [
      "5 3 5 2 1\n",
      "4 3 4 2 1\n",
      "3 1 3 0 1\n",
      "2 1 2 0 1\n",
      "1\n"
     ]
    }
   ],
   "source": [
    "msgs = 0\n",
    "for i in list(range((count_change-1)))[::-1]:\n",
    "    exec('if i_%s<=i_%s and i_%s>=i_%s: a=1'%((i+1)*2+1,i*2+1,(i+1)*2+1,i*2))\n",
    "    exec('if i_%s<=i_%s and i_%s>=i_%s: b=1'%((i+1)*2+1,i*2+1,(i+1)*2+1,i*2))\n",
    "    #print ((i+1)*2+1,i*2+1,(i+1)*2+1,i*2,a)\n",
    "    #print ((i+1)*2,i*2+1,(i+1)*2,i*2,b)\n",
    "    if a!=1 and b!=1:\n",
    "        msgs+=1\n",
    "msgs+=1\n",
    "print (msgs)"
   ]
  },
  {
   "cell_type": "code",
   "execution_count": 39,
   "metadata": {},
   "outputs": [
    {
     "name": "stdout",
     "output_type": "stream",
     "text": [
      "1\n",
      "5 3 5 2\n",
      "4 3 4 2\n",
      "0\n",
      "3 1 3 0\n",
      "2 1 2 0\n"
     ]
    }
   ],
   "source": [
    "for i in list(range((count_change-1)))[::-1]:\n",
    "    print (i)\n",
    "    print ((i+1)*2+1,i*2+1,(i+1)*2+1,i*2)\n",
    "    print ((i+1)*2,i*2+1,(i+1)*2,i*2)"
   ]
  },
  {
   "cell_type": "code",
   "execution_count": 61,
   "metadata": {},
   "outputs": [
    {
     "name": "stdout",
     "output_type": "stream",
     "text": [
      "10 19\n",
      "10\n",
      "19\n",
      "3\n"
     ]
    }
   ],
   "source": [
    "string = input()\n",
    "values = string.split()\n",
    "X = int(values[0])\n",
    "y = int(values[1])\n",
    "print (X)\n",
    "print (y)\n",
    "def plus_3(drova):return drova+3\n",
    "def size_up_4(drova):return drova*4\n",
    "count_operations=0\n",
    "for i in range(20):\n",
    "    if y>=size_up_4(X):\n",
    "        X=size_up_4(X)\n",
    "        count_operations+=1\n",
    "        if X>=y:break\n",
    "        continue\n",
    "    else:\n",
    "        X=plus_3(X)\n",
    "        count_operations+=1\n",
    "    if X>=y:break\n",
    "print (count_operations)"
   ]
  },
  {
   "cell_type": "code",
   "execution_count": 32,
   "metadata": {},
   "outputs": [],
   "source": []
  },
  {
   "cell_type": "code",
   "execution_count": 38,
   "metadata": {},
   "outputs": [
    {
     "name": "stdout",
     "output_type": "stream",
     "text": [
      "????????\n",
      "7\n"
     ]
    }
   ],
   "source": [
    "def is_correct_brackets(text):\n",
    "    while '()' in text:\n",
    "        text = text.replace('()', '')\n",
    "        print (text)\n",
    "        if '(?' in text:\n",
    "            text = text.replace('(?', '()')\n",
    "        if '?)' in text:\n",
    "            text = text.replace('?)', '()')\n",
    "    return not text\n",
    "a = 0\n",
    "string = input()\n",
    "if len(string)%2!=0: \n",
    "    a = 0\n",
    "else:    \n",
    "    if '(' not in string and ')' not in string:\n",
    "        len_string = len(string)\n",
    "        if len_string == 2: a = 1\n",
    "        if len_string == 4: a = 2\n",
    "        if len_string == 6: a = 3\n",
    "        if len_string == 8: a = 7\n",
    "        \n",
    "    \n",
    "    if is_correct_brackets(string) is True: \n",
    "        a = 1\n",
    "\n",
    "print(a)"
   ]
  },
  {
   "cell_type": "code",
   "execution_count": 31,
   "metadata": {},
   "outputs": [
    {
     "data": {
      "text/plain": [
       "20"
      ]
     },
     "execution_count": 31,
     "metadata": {},
     "output_type": "execute_result"
    }
   ],
   "source": [
    "len('?)?(?()()?(?)?)(?)()')"
   ]
  },
  {
   "cell_type": "code",
   "execution_count": 3,
   "metadata": {},
   "outputs": [
    {
     "name": "stdout",
     "output_type": "stream",
     "text": [
      "(0, '?')\n",
      "(1, ')')\n",
      "(2, '(')\n",
      "(3, ')')\n",
      "(4, '(')\n",
      "(5, ')')\n",
      "(6, '?')\n",
      "(7, '(')\n",
      "(8, ')')\n",
      "(9, '(')\n",
      "(10, ')')\n",
      "(11, ')')\n",
      "(12, '?')\n",
      "(13, ')')\n",
      "(14, ')')\n",
      "(15, '?')\n",
      "(16, ')')\n",
      "(17, '(')\n",
      "(18, ')')\n"
     ]
    }
   ],
   "source": [
    "balance = 0\n",
    "for i,char in enumerate(string):\n",
    "    if char='(':\n",
    "        balance+=1\n",
    "    if char=')':\n",
    "        balance-=1\n",
    "    if char='?':\n",
    "        "
   ]
  }
 ],
 "metadata": {
  "kernelspec": {
   "display_name": "Python 3",
   "language": "python",
   "name": "python3"
  },
  "language_info": {
   "codemirror_mode": {
    "name": "ipython",
    "version": 3
   },
   "file_extension": ".py",
   "mimetype": "text/x-python",
   "name": "python",
   "nbconvert_exporter": "python",
   "pygments_lexer": "ipython3",
   "version": "3.7.0"
  }
 },
 "nbformat": 4,
 "nbformat_minor": 2
}
