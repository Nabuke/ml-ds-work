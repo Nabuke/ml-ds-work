{
 "cells": [
  {
   "cell_type": "code",
   "execution_count": 1,
   "metadata": {},
   "outputs": [
    {
     "name": "stdout",
     "output_type": "stream",
     "text": [
      "The 1st closest sentence is a sentence #6 with a cosine distance of 0.73.\n",
      "The 2nd closest sentence is a sentence #4 with a cosine distance of 0.78.\n"
     ]
    }
   ],
   "source": [
    "# Python 3.4.3\n",
    "from numpy import zeros, dot, savetxt\n",
    "from numpy.linalg import norm\n",
    " \n",
    "# Definition of a cosine distance function\n",
    "# according to scipy.spatial.distance.cosine function's description \n",
    "def cosine_distance(u, v):\n",
    "    return 1.0 - (dot(u, v) / (norm(u) * norm(v)))\n",
    " \n",
    "if __name__ == \"__main__\":\n",
    "    with open(\"sentences.txt\") as f:\n",
    "        # Let's determine a number of lines in a text file\n",
    "        lines = sum(1 for _ in f)\n",
    "        f.seek(0)\n",
    "        \n",
    "        import re\n",
    "        words = {}\n",
    "        # The 'lcount' variable controlls the index of a current line in the text file,\n",
    "        # when the 'wcount' variable controlls the index of a unique word.\n",
    "        lcount, wcount = 0, 0\n",
    "        for line in f:\n",
    "            # Here we compile a pattern object, read a line from the text file,\n",
    "            # and split it into tokens (words).\n",
    "            p = re.compile(r\"[^a-z]+\")\n",
    "            tokens = p.split(line.lower())\n",
    "            # In this case we will have only one empty token at the end of a list.\n",
    "            # Let's remove it.\n",
    "            tokens.pop()\n",
    "            for token in tokens:\n",
    "                # If a token is not presented in the dictionary yet then we add it.\n",
    "                # The value of the 'occurrences' entry is a list object where every item represents\n",
    "                # a specific line in the text file. The first item represents the first line, the second item\n",
    "                # represents the sencond line etc. \n",
    "                if token not in words:\n",
    "                    words[token] = {\n",
    "                        \"index\": wcount,\n",
    "                        \"occurrences\": [0] * lines\n",
    "                    }\n",
    "                    wcount += 1\n",
    "                # If we find the same token in the same list of tokens (in the same line)\n",
    "                # then we just ignore it.\n",
    "                elif words[token][\"occurrences\"][lcount] != 0:\n",
    "                    continue\n",
    "                \n",
    "                # Here we register how many times a token occured in a list of tokens (in a line)    \n",
    "                words[token][\"occurrences\"][lcount] = tokens.count(token)    \n",
    "            lcount += 1\n",
    "        \n",
    "        # Here we create a numpy-array, filled with zeros\n",
    "        arr = zeros((lines, len(words)))\n",
    "        \n",
    "        # Now for every word in the dictionary we take a number of its occurrences\n",
    "        # in every line and put it to the array.  \n",
    "        for word in words:\n",
    "            i, j = 0, words[word][\"index\"]\n",
    "            for occ in words[word][\"occurrences\"]:\n",
    "                arr[i, j] = occ\n",
    "                i += 1\n",
    "    \n",
    "        #savetxt(\"foo.csv\", arr, delimiter=\",\")\n",
    "        \n",
    "        # Finally we calculate a cosine distance between the first sentence (line) and\n",
    "        # other sentences in the text file\n",
    "        dist = [] \n",
    "        u = arr[0,] \n",
    "        for i in range(1, lines):\n",
    "            v = arr[i,]\n",
    "            dist.append({\"index\": i, \"distance\": cosine_distance(u, v)})    \n",
    "        \n",
    "        dist.sort(key=lambda x: x[\"distance\"])\n",
    "        print(\"The 1st closest sentence is a sentence #%d with a cosine distance of %.2f.\\n\"\\\n",
    "        \"The 2nd closest sentence is a sentence #%d with a cosine distance of %.2f.\" % (\n",
    "            dist[0][\"index\"],\n",
    "            dist[0][\"distance\"],\n",
    "            dist[1][\"index\"],\n",
    "            dist[1][\"distance\"]\n",
    "        ))"
   ]
  }
 ],
 "metadata": {
  "kernelspec": {
   "display_name": "Python 2",
   "language": "python",
   "name": "python2"
  },
  "language_info": {
   "codemirror_mode": {
    "name": "ipython",
    "version": 2
   },
   "file_extension": ".py",
   "mimetype": "text/x-python",
   "name": "python",
   "nbconvert_exporter": "python",
   "pygments_lexer": "ipython2",
   "version": "2.7.14"
  }
 },
 "nbformat": 4,
 "nbformat_minor": 2
}
