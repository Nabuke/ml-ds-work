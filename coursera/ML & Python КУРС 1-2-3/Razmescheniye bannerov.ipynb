{
 "cells": [
  {
   "cell_type": "code",
   "execution_count": 256,
   "metadata": {
    "collapsed": true
   },
   "outputs": [],
   "source": [
    "import pandas as pd\n",
    "import matplotlib.pyplot as plt"
   ]
  },
  {
   "cell_type": "code",
   "execution_count": 257,
   "metadata": {},
   "outputs": [],
   "source": [
    "import numpy as np"
   ]
  },
  {
   "cell_type": "code",
   "execution_count": 258,
   "metadata": {},
   "outputs": [],
   "source": [
    "df = pd.read_csv('checkins.csv', header=0, sep='|', encoding ='cp1251')"
   ]
  },
  {
   "cell_type": "code",
   "execution_count": 259,
   "metadata": {},
   "outputs": [
    {
     "name": "stdout",
     "output_type": "stream",
     "text": [
      "<class 'pandas.core.frame.DataFrame'>\n",
      "RangeIndex: 1021968 entries, 0 to 1021967\n",
      "Data columns (total 6 columns):\n",
      "   id                    1021968 non-null object\n",
      " user_id                 1021966 non-null float64\n",
      " venue_id                1021966 non-null float64\n",
      "     latitude            1021966 non-null object\n",
      "     longitude           1021966 non-null object\n",
      "     created_at          1021966 non-null object\n",
      "dtypes: float64(2), object(4)\n",
      "memory usage: 31.2+ MB\n"
     ]
    }
   ],
   "source": [
    "df.info()"
   ]
  },
  {
   "cell_type": "code",
   "execution_count": 260,
   "metadata": {},
   "outputs": [
    {
     "data": {
      "text/plain": [
       "Index([u'   id    ', u' user_id ', u' venue_id ', u'     latitude      ',\n",
       "       u'     longitude     ', u'     created_at      '],\n",
       "      dtype='object')"
      ]
     },
     "execution_count": 260,
     "metadata": {},
     "output_type": "execute_result"
    }
   ],
   "source": [
    "df = df.dropna()\n",
    "df.columns"
   ]
  },
  {
   "cell_type": "code",
   "execution_count": 261,
   "metadata": {},
   "outputs": [],
   "source": [
    "mask = np.where(df[u'     longitude     '] == u'                   ')"
   ]
  },
  {
   "cell_type": "code",
   "execution_count": 262,
   "metadata": {},
   "outputs": [
    {
     "name": "stdout",
     "output_type": "stream",
     "text": [
      "(array([      0,       2,       4, ..., 1021958, 1021963, 1021965]),)\n"
     ]
    }
   ],
   "source": [
    "print mask"
   ]
  },
  {
   "cell_type": "code",
   "execution_count": 263,
   "metadata": {},
   "outputs": [
    {
     "data": {
      "text/html": [
       "<div>\n",
       "<style>\n",
       "    .dataframe thead tr:only-child th {\n",
       "        text-align: right;\n",
       "    }\n",
       "\n",
       "    .dataframe thead th {\n",
       "        text-align: left;\n",
       "    }\n",
       "\n",
       "    .dataframe tbody tr th {\n",
       "        vertical-align: top;\n",
       "    }\n",
       "</style>\n",
       "<table border=\"1\" class=\"dataframe\">\n",
       "  <thead>\n",
       "    <tr style=\"text-align: right;\">\n",
       "      <th></th>\n",
       "      <th>id</th>\n",
       "      <th>user_id</th>\n",
       "      <th>venue_id</th>\n",
       "      <th>latitude</th>\n",
       "      <th>longitude</th>\n",
       "      <th>created_at</th>\n",
       "    </tr>\n",
       "  </thead>\n",
       "  <tbody>\n",
       "    <tr>\n",
       "      <th>1</th>\n",
       "      <td>984301</td>\n",
       "      <td>2041916.0</td>\n",
       "      <td>5222.0</td>\n",
       "      <td></td>\n",
       "      <td></td>\n",
       "      <td>2012-04-21 17:39:01</td>\n",
       "    </tr>\n",
       "    <tr>\n",
       "      <th>2</th>\n",
       "      <td>984222</td>\n",
       "      <td>15824.0</td>\n",
       "      <td>5222.0</td>\n",
       "      <td>38.8951118</td>\n",
       "      <td>-77.0363658</td>\n",
       "      <td>2012-04-21 17:43:47</td>\n",
       "    </tr>\n",
       "    <tr>\n",
       "      <th>3</th>\n",
       "      <td>984315</td>\n",
       "      <td>1764391.0</td>\n",
       "      <td>5222.0</td>\n",
       "      <td></td>\n",
       "      <td></td>\n",
       "      <td>2012-04-21 17:37:18</td>\n",
       "    </tr>\n",
       "    <tr>\n",
       "      <th>4</th>\n",
       "      <td>984234</td>\n",
       "      <td>44652.0</td>\n",
       "      <td>5222.0</td>\n",
       "      <td>33.800745</td>\n",
       "      <td>-84.41052</td>\n",
       "      <td>2012-04-21 17:43:43</td>\n",
       "    </tr>\n",
       "    <tr>\n",
       "      <th>5</th>\n",
       "      <td>984249</td>\n",
       "      <td>2146840.0</td>\n",
       "      <td>5222.0</td>\n",
       "      <td></td>\n",
       "      <td></td>\n",
       "      <td>2012-04-21 17:42:58</td>\n",
       "    </tr>\n",
       "    <tr>\n",
       "      <th>6</th>\n",
       "      <td>984268</td>\n",
       "      <td>2146843.0</td>\n",
       "      <td>5222.0</td>\n",
       "      <td></td>\n",
       "      <td></td>\n",
       "      <td>2012-04-21 17:42:38</td>\n",
       "    </tr>\n",
       "    <tr>\n",
       "      <th>7</th>\n",
       "      <td>984281</td>\n",
       "      <td>2146846.0</td>\n",
       "      <td>5222.0</td>\n",
       "      <td></td>\n",
       "      <td></td>\n",
       "      <td>2012-04-21 17:39:40</td>\n",
       "    </tr>\n",
       "  </tbody>\n",
       "</table>\n",
       "</div>"
      ],
      "text/plain": [
       "      id       user_id    venue_id        latitude             longitude       \\\n",
       "1    984301   2041916.0      5222.0                                             \n",
       "2    984222     15824.0      5222.0          38.8951118          -77.0363658    \n",
       "3    984315   1764391.0      5222.0                                             \n",
       "4    984234     44652.0      5222.0           33.800745            -84.41052    \n",
       "5    984249   2146840.0      5222.0                                             \n",
       "6    984268   2146843.0      5222.0                                             \n",
       "7    984281   2146846.0      5222.0                                             \n",
       "\n",
       "       created_at        \n",
       "1   2012-04-21 17:39:01  \n",
       "2   2012-04-21 17:43:47  \n",
       "3   2012-04-21 17:37:18  \n",
       "4   2012-04-21 17:43:43  \n",
       "5   2012-04-21 17:42:58  \n",
       "6   2012-04-21 17:42:38  \n",
       "7   2012-04-21 17:39:40  "
      ]
     },
     "execution_count": 263,
     "metadata": {},
     "output_type": "execute_result"
    }
   ],
   "source": [
    "df[:7]"
   ]
  },
  {
   "cell_type": "code",
   "execution_count": 264,
   "metadata": {},
   "outputs": [],
   "source": [
    "df = df.loc[df[u'     longitude     '] != u'                   ']"
   ]
  },
  {
   "cell_type": "code",
   "execution_count": 265,
   "metadata": {},
   "outputs": [
    {
     "name": "stderr",
     "output_type": "stream",
     "text": [
      "C:\\Users\\User\\Anaconda2\\lib\\site-packages\\ipykernel_launcher.py:2: FutureWarning: convert_objects is deprecated.  Use the data-type specific converters pd.to_datetime, pd.to_timedelta and pd.to_numeric.\n",
      "  \n"
     ]
    }
   ],
   "source": [
    "df1 = df[:100000]\n",
    "df1 = df.convert_objects(convert_numeric=True)"
   ]
  },
  {
   "cell_type": "code",
   "execution_count": 266,
   "metadata": {},
   "outputs": [],
   "source": [
    "del df1[u'     created_at      ']\n",
    "del df1[u'   id    ']\n",
    "del df1[u' user_id ']\n",
    "del df1[u' venue_id ']"
   ]
  },
  {
   "cell_type": "code",
   "execution_count": 267,
   "metadata": {},
   "outputs": [
    {
     "name": "stdout",
     "output_type": "stream",
     "text": [
      "<class 'pandas.core.frame.DataFrame'>\n",
      "Int64Index: 396634 entries, 2 to 1021965\n",
      "Data columns (total 2 columns):\n",
      "     latitude          396634 non-null float64\n",
      "     longitude         396634 non-null float64\n",
      "dtypes: float64(2)\n",
      "memory usage: 9.1 MB\n"
     ]
    },
    {
     "data": {
      "text/html": [
       "<div>\n",
       "<style>\n",
       "    .dataframe thead tr:only-child th {\n",
       "        text-align: right;\n",
       "    }\n",
       "\n",
       "    .dataframe thead th {\n",
       "        text-align: left;\n",
       "    }\n",
       "\n",
       "    .dataframe tbody tr th {\n",
       "        vertical-align: top;\n",
       "    }\n",
       "</style>\n",
       "<table border=\"1\" class=\"dataframe\">\n",
       "  <thead>\n",
       "    <tr style=\"text-align: right;\">\n",
       "      <th></th>\n",
       "      <th>latitude</th>\n",
       "      <th>longitude</th>\n",
       "    </tr>\n",
       "  </thead>\n",
       "  <tbody>\n",
       "    <tr>\n",
       "      <th>2</th>\n",
       "      <td>38.895112</td>\n",
       "      <td>-77.036366</td>\n",
       "    </tr>\n",
       "    <tr>\n",
       "      <th>4</th>\n",
       "      <td>33.800745</td>\n",
       "      <td>-84.410520</td>\n",
       "    </tr>\n",
       "    <tr>\n",
       "      <th>8</th>\n",
       "      <td>45.523452</td>\n",
       "      <td>-122.676207</td>\n",
       "    </tr>\n",
       "    <tr>\n",
       "      <th>10</th>\n",
       "      <td>40.764462</td>\n",
       "      <td>-111.904565</td>\n",
       "    </tr>\n",
       "    <tr>\n",
       "      <th>11</th>\n",
       "      <td>33.448377</td>\n",
       "      <td>-112.074037</td>\n",
       "    </tr>\n",
       "    <tr>\n",
       "      <th>12</th>\n",
       "      <td>32.221743</td>\n",
       "      <td>-110.926479</td>\n",
       "    </tr>\n",
       "    <tr>\n",
       "      <th>13</th>\n",
       "      <td>40.650000</td>\n",
       "      <td>-73.950000</td>\n",
       "    </tr>\n",
       "    <tr>\n",
       "      <th>14</th>\n",
       "      <td>33.448377</td>\n",
       "      <td>-112.074037</td>\n",
       "    </tr>\n",
       "    <tr>\n",
       "      <th>16</th>\n",
       "      <td>33.414768</td>\n",
       "      <td>-111.909309</td>\n",
       "    </tr>\n",
       "    <tr>\n",
       "      <th>19</th>\n",
       "      <td>42.358431</td>\n",
       "      <td>-71.059773</td>\n",
       "    </tr>\n",
       "  </tbody>\n",
       "</table>\n",
       "</div>"
      ],
      "text/plain": [
       "         latitude             longitude     \n",
       "2             38.895112           -77.036366\n",
       "4             33.800745           -84.410520\n",
       "8             45.523452          -122.676207\n",
       "10            40.764462          -111.904565\n",
       "11            33.448377          -112.074037\n",
       "12            32.221743          -110.926479\n",
       "13            40.650000           -73.950000\n",
       "14            33.448377          -112.074037\n",
       "16            33.414768          -111.909309\n",
       "19            42.358431           -71.059773"
      ]
     },
     "execution_count": 267,
     "metadata": {},
     "output_type": "execute_result"
    }
   ],
   "source": [
    "df1.info()\n",
    "df1[:10]"
   ]
  },
  {
   "cell_type": "code",
   "execution_count": 268,
   "metadata": {},
   "outputs": [
    {
     "name": "stdout",
     "output_type": "stream",
     "text": [
      "<class 'pandas.core.frame.DataFrame'>\n",
      "Int64Index: 396634 entries, 2 to 1021965\n",
      "Data columns (total 2 columns):\n",
      "     latitude          396634 non-null float64\n",
      "     longitude         396634 non-null float64\n",
      "dtypes: float64(2)\n",
      "memory usage: 9.1 MB\n"
     ]
    },
    {
     "data": {
      "text/plain": [
       "<matplotlib.axes._subplots.AxesSubplot at 0x5f44bc70>"
      ]
     },
     "execution_count": 268,
     "metadata": {},
     "output_type": "execute_result"
    },
    {
     "data": {
      "image/png": "[encoded data removed]",
      "text/plain": [
       "<matplotlib.figure.Figure at 0x606da150>"
      ]
     },
     "metadata": {},
     "output_type": "display_data"
    }
   ],
   "source": [
    "%matplotlib inline\n",
    "#xx = np.array(df1[u'     latitude      '])\n",
    "#yy= np.array(df1[u'     longitude     '])\n",
    "#print xx\n",
    "#print yy\n",
    "#print df1[:7]\n",
    "df1.info()\n",
    "df1.plot(x=u'     longitude     ', y = u'     latitude      ' , kind = 'scatter')"
   ]
  },
  {
   "cell_type": "code",
   "execution_count": 269,
   "metadata": {
    "collapsed": true
   },
   "outputs": [],
   "source": [
    "from sklearn.cluster import MeanShift"
   ]
  },
  {
   "cell_type": "code",
   "execution_count": 270,
   "metadata": {},
   "outputs": [],
   "source": [
    "model = MeanShift(bandwidth=0.1)\n",
    "#preds = model.fit_predict(df1)"
   ]
  },
  {
   "cell_type": "code",
   "execution_count": 272,
   "metadata": {},
   "outputs": [],
   "source": [
    "centers = model.fit(df1[:100000])"
   ]
  },
  {
   "cell_type": "code",
   "execution_count": 273,
   "metadata": {},
   "outputs": [
    {
     "name": "stdout",
     "output_type": "stream",
     "text": [
      "[[  40.7177164   -73.99183542]\n",
      " [  33.44943805 -112.00213969]\n",
      " [  33.44638027 -111.90188756]\n",
      " ..., \n",
      " [  46.7323875  -117.0001651 ]\n",
      " [  29.6899563   -95.8996757 ]\n",
      " [  31.3787916   -95.3213317 ]]\n"
     ]
    }
   ],
   "source": [
    "centers1 = centers.cluster_centers_\n",
    "print centers1\n",
    "len(centers1)\n",
    "xx = []\n",
    "yy = []\n",
    "for j in range(len(centers1)):\n",
    "    xx.append(centers1[j][0])\n",
    "    yy.append(centers1[j][1])\n",
    "    "
   ]
  },
  {
   "cell_type": "code",
   "execution_count": 274,
   "metadata": {},
   "outputs": [
    {
     "data": {
      "image/png": "[encoded data removed]",
      "text/plain": [
       "<matplotlib.figure.Figure at 0x709dec90>"
      ]
     },
     "metadata": {},
     "output_type": "display_data"
    }
   ],
   "source": [
    "#print xx[:10]\n",
    "#print yy[:10]\n",
    "plt.plot(yy, xx,'bo')\n",
    "plt.show()"
   ]
  },
  {
   "cell_type": "code",
   "execution_count": 293,
   "metadata": {},
   "outputs": [],
   "source": [
    "office = [[34.234435,-118.560834],\n",
    "          [49.2534648,-123.1292725],\n",
    "          [34.272271,-118.469145],\n",
    "          [30.0055101,-90.2378093],\n",
    "          [33.7517479,-118.190918],\n",
    "          [34.2010298,-118.4409703],\n",
    "          [29.9405778,-90.0615309],\n",
    "          [49.2518957,-123.1276499],\n",
    "          [34.0268019,-118.2190251],\n",
    "          [33.102383,-96.8146629],\n",
    "          [38.20115,-85.814593],\n",
    "          [29.95889,-90.091945],\n",
    "          [25.8072615,-80.3357092],\n",
    "          [34.035983,-118.4713336],\n",
    "          [28.4165793,-80.6265693],\n",
    "          [30.4851903,-84.2380477],\n",
    "          [34.272271,-118.469145],\n",
    "          [34.272271,-118.469145],\n",
    "          [34.272271,-118.469145],\n",
    "          [34.272271,-118.469145],\n",
    "          [34.272271,-118.469145],\n",
    "          [34.272271,-118.469145],\n",
    "          [34.272271,-118.469145],\n",
    "          [-33.868457, 151.205134],\n",
    "          [39.366487, 117.036146],\n",
    "          [52.378894, 4.885084],\n",
    "          [51.503016, -0.075479],\n",
    "          [25.867736, -80.324116],\n",
    "          [33.751277, -118.188740],]"
   ]
  },
  {
   "cell_type": "code",
   "execution_count": 295,
   "metadata": {},
   "outputs": [
    {
     "name": "stdout",
     "output_type": "stream",
     "text": [
      "точка 34.1981820709 -118.549276808 3.80505395264\n",
      "точка 49.2401719783 -123.111860223 2.19063120477\n",
      "точка 34.1981820709 -118.549276808 10.9134211105\n",
      "точка 29.9867312917 -90.2039336556 3.87324531749\n",
      "точка 33.8098779553 -118.148923807 7.17120323121\n",
      "точка 34.1981820709 -118.549276808 10.8343939346\n",
      "точка 29.966228186 -90.0772990205 3.01093992506\n",
      "точка 49.2401719783 -123.111860223 1.96662034449\n",
      "точка 34.0603975546 -118.248709027 4.48308320817\n",
      "точка 33.136918969 -96.8482683775 4.81877709733\n",
      "точка 38.2534614149 -85.759421314 7.60289356913\n",
      "точка 29.966228186 -90.0772990205 1.63815045011\n",
      "точка 25.8456722643 -80.3188905964 4.1931518445\n",
      "точка 34.0354869531 -118.438997719 3.23396851053\n",
      "точка 28.3297016724 -80.6728876966 9.84536237735\n",
      "точка 30.4416425602 -84.2858799458 6.4686392501\n",
      "точка 34.1981820709 -118.549276808 10.9134211105\n",
      "точка 34.1981820709 -118.549276808 10.9134211105\n",
      "точка 34.1981820709 -118.549276808 10.9134211105\n",
      "точка 34.1981820709 -118.549276808 10.9134211105\n",
      "точка 34.1981820709 -118.549276808 10.9134211105\n",
      "точка 34.1981820709 -118.549276808 10.9134211105\n",
      "точка 34.1981820709 -118.549276808 10.9134211105\n",
      "точка -33.8606304286 151.204775929 0.783475816311\n",
      "точка 39.121079 117.214389 30.3307852706\n",
      "точка 52.3729639903 4.89231722258 0.935331618599\n",
      "точка 51.5029912609 -0.12553728871 5.00582948228\n",
      "точка 25.8456722643 -80.3188905964 2.26740661584\n",
      "точка 33.8098779553 -118.148923807 7.08477324272\n"
     ]
    }
   ],
   "source": [
    "z = 5.0\n",
    "z1 = 0.0\n",
    "for k in office:\n",
    "    #print 'k',k[0], k[1]\n",
    "    for i in range(len(centers1)):\n",
    "        #print 'before',xx[i]-k[0], (xx[i]-k[0])**2, np.sqrt((xx[i]-k[0])**2+(yy[i]-k[1])**2)\n",
    "        z1 = np.sqrt((xx[i]-k[0])**2+(yy[i]-k[1])**2)\n",
    "        #print z, z1\n",
    "        if z1 < z:\n",
    "            z=z1\n",
    "            number = i\n",
    "            #print 'after'\n",
    "            #print z, i\n",
    "            #print 'x',xx[i], k[0]\n",
    "            #print 'y',yy[i], k[1]\n",
    "            #print 'sqrt', z1\n",
    "    print 'точка', xx[number], yy[number],\n",
    "    print z*100 \n",
    "    z1 = 0.0\n",
    "    z = 5.0\n",
    "    number = 0"
   ]
  },
  {
   "cell_type": "code",
   "execution_count": null,
   "metadata": {
    "collapsed": true
   },
   "outputs": [],
   "source": []
  }
 ],
 "metadata": {
  "kernelspec": {
   "display_name": "Python 2",
   "language": "python",
   "name": "python2"
  },
  "language_info": {
   "codemirror_mode": {
    "name": "ipython",
    "version": 2
   },
   "file_extension": ".py",
   "mimetype": "text/x-python",
   "name": "python",
   "nbconvert_exporter": "python",
   "pygments_lexer": "ipython2",
   "version": "2.7.14"
  }
 },
 "nbformat": 4,
 "nbformat_minor": 2
}
