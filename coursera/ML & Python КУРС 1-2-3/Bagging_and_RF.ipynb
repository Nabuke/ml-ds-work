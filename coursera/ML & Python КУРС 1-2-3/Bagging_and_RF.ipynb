{
 "cells": [
  {
   "cell_type": "code",
   "execution_count": 1,
   "metadata": {},
   "outputs": [
    {
     "name": "stderr",
     "output_type": "stream",
     "text": [
      "C:\\Users\\User\\Anaconda2\\lib\\site-packages\\sklearn\\cross_validation.py:41: DeprecationWarning: This module was deprecated in version 0.18 in favor of the model_selection module into which all the refactored classes and functions are moved. Also note that the interface of the new CV iterators are different from that of this module. This module will be removed in 0.20.\n",
      "  \"This module will be removed in 0.20.\", DeprecationWarning)\n",
      "C:\\Users\\User\\Anaconda2\\lib\\site-packages\\sklearn\\learning_curve.py:22: DeprecationWarning: This module was deprecated in version 0.18 in favor of the model_selection module into which all the functions are moved. This module will be removed in 0.20\n",
      "  DeprecationWarning)\n"
     ]
    },
    {
     "name": "stdout",
     "output_type": "stream",
     "text": [
      "Populating the interactive namespace from numpy and matplotlib\n"
     ]
    }
   ],
   "source": [
    "\n",
    "from matplotlib.colors import ListedColormap\n",
    "from sklearn import cross_validation, datasets, metrics, tree, ensemble, learning_curve\n",
    "\n",
    "import numpy as np\n",
    "import pandas as pd\n",
    "%pylab inline"
   ]
  },
  {
   "cell_type": "markdown",
   "metadata": {},
   "source": [
    "Загрузите датасет digits с помощью функции load_digits из sklearn.datasets и подготовьте матрицу признаков X и ответы на обучающей выборке y (вам потребуются поля data и target в объекте, который возвращает load_digits).\n",
    "\n",
    "Для оценки качества далее нужно будет использовать cross_val_score из sklearn.cross_validation с параметром cv=10. Эта функция реализует k-fold cross validation c k равным значению параметра cv. Мы предлагаем использовать k=10, чтобы полученные оценки качества имели небольшой разброс, и было проще проверить полученные ответы. На практике же часто хватает и k=5. Функция cross_val_score будет возвращать numpy.ndarray, в котором будет k чисел - качество в каждом из k экспериментов k-fold cross validation. Для получения среднего значения (которое и будет оценкой качества работы) вызовите метод .mean() у массива, который возвращает cross_val_score.\n",
    "\n",
    "С небольшой вероятностью вы можете натолкнуться на случай, когда полученное вами качество в каком-то из пунктов не попадет в диапазон, заданный для правильных ответов - в этом случае попробуйте перезапустить ячейку с cross_val_score несколько раз и выбрать наиболее «типичное» значение. Если это не помогает, то где-то была допущена ошибка.\n",
    "\n",
    "Если вам захочется ускорить вычисление cross_val_score - можете попробовать использовать параметр n_jobs, но будьте осторожны: в одной из старых версий sklearn была ошибка, которая приводила к неверному результату работы cross_val_score при задании n_jobs отличным от 1. Сейчас такой проблемы возникнуть не должно, но проверить, что все в порядке, не будет лишним.\n"
   ]
  },
  {
   "cell_type": "code",
   "execution_count": 2,
   "metadata": {
    "collapsed": true
   },
   "outputs": [],
   "source": [
    "digits = datasets.load_digits()"
   ]
  },
  {
   "cell_type": "code",
   "execution_count": 3,
   "metadata": {
    "collapsed": true
   },
   "outputs": [],
   "source": [
    "X = digits.data\n",
    "y = digits.target"
   ]
  },
  {
   "cell_type": "markdown",
   "metadata": {},
   "source": [
    "1.\n",
    "\n",
    "Создайте DecisionTreeClassifier с настройками по умолчанию и измерьте качество его работы с помощью cross_val_score. Эта величина и будет ответом в пункте 1."
   ]
  },
  {
   "cell_type": "code",
   "execution_count": 4,
   "metadata": {
    "collapsed": true
   },
   "outputs": [],
   "source": [
    "dtree = tree.DecisionTreeClassifier()"
   ]
  },
  {
   "cell_type": "code",
   "execution_count": 5,
   "metadata": {
    "collapsed": true
   },
   "outputs": [],
   "source": [
    "cv_size = 10\n",
    "tree_scores = cross_validation.cross_val_score(dtree, X, y, cv=cv_size)"
   ]
  },
  {
   "cell_type": "code",
   "execution_count": 6,
   "metadata": {},
   "outputs": [
    {
     "name": "stdout",
     "output_type": "stream",
     "text": [
      "0.822997003089\n"
     ]
    }
   ],
   "source": [
    "ans1 = tree_scores.mean()\n",
    "print ans1"
   ]
  },
  {
   "cell_type": "code",
   "execution_count": 7,
   "metadata": {
    "collapsed": true
   },
   "outputs": [],
   "source": [
    "def plot_scores(scores):\n",
    "    pylab.grid(True)\n",
    "    pylab.plot(range(cv_size), scores, label='cv scores')\n",
    "    pylab.ylim((0.0, 1.05))\n",
    "    pylab.legend(loc='lower right')"
   ]
  },
  {
   "cell_type": "code",
   "execution_count": 10,
   "metadata": {},
   "outputs": [
    {
     "data": {
      "image/png": "[encoded data removed]",
      "text/plain": [
       "<matplotlib.figure.Figure at 0x95bbf90>"
      ]
     },
     "metadata": {},
     "output_type": "display_data"
    }
   ],
   "source": [
    "plot_scores(tree_scores)"
   ]
  },
  {
   "cell_type": "code",
   "execution_count": 8,
   "metadata": {
    "collapsed": true
   },
   "outputs": [],
   "source": [
    "\n",
    "with open('ans1.txt', 'w') as f_out:\n",
    "        f_out.write(str(ans1))"
   ]
  },
  {
   "cell_type": "markdown",
   "metadata": {},
   "source": [
    "2.\n",
    "\n",
    "Воспользуйтесь BaggingClassifier из sklearn.ensemble, чтобы обучить бэггинг над DecisionTreeClassifier. Используйте в BaggingClassifier параметры по умолчанию, задав только количество деревьев равным 100.\n",
    "\n",
    "Качество классификации новой модели - ответ в пункте 2. Обратите внимание, как соотносится качество работы композиции решающих деревьев с качеством работы одного решающего дерева."
   ]
  },
  {
   "cell_type": "code",
   "execution_count": 11,
   "metadata": {
    "collapsed": true
   },
   "outputs": [],
   "source": [
    "bagging = ensemble.BaggingClassifier(dtree, n_estimators=100)\n",
    "bag_scores = cross_validation.cross_val_score(bagging, X, y, cv=cv_size)"
   ]
  },
  {
   "cell_type": "code",
   "execution_count": 12,
   "metadata": {},
   "outputs": [
    {
     "name": "stdout",
     "output_type": "stream",
     "text": [
      "0.925971176807\n"
     ]
    },
    {
     "data": {
      "image/png": "[encoded data removed]",
      "text/plain": [
       "<matplotlib.figure.Figure at 0x96e7770>"
      ]
     },
     "metadata": {},
     "output_type": "display_data"
    }
   ],
   "source": [
    "plot_scores(bag_scores)\n",
    "ans2 = bag_scores.mean()\n",
    "print ans2\n",
    "with open('ans2.txt', 'w') as f_out:\n",
    "        f_out.write(str(ans2))"
   ]
  },
  {
   "cell_type": "markdown",
   "metadata": {},
   "source": [
    "3.\n",
    "\n",
    "Теперь изучите параметры BaggingClassifier и выберите их такими, чтобы каждый базовый алгоритм обучался не на всех d признаках, а на d√ случайных признаков. Качество работы получившегося классификатора - ответ в пункте 3. Корень из числа признаков - часто используемая эвристика в задачах классификации, в задачах регрессии же часто берут число признаков, деленное на три. Но в общем случае ничто не мешает вам выбирать любое другое число случайных признаков."
   ]
  },
  {
   "cell_type": "code",
   "execution_count": 13,
   "metadata": {},
   "outputs": [
    {
     "name": "stdout",
     "output_type": "stream",
     "text": [
      "0.934359275671\n"
     ]
    },
    {
     "data": {
      "image/png": "[encoded data removed]",
      "text/plain": [
       "<matplotlib.figure.Figure at 0x997e050>"
      ]
     },
     "metadata": {},
     "output_type": "display_data"
    }
   ],
   "source": [
    "n_f = int(np.sqrt(X.shape[1]))\n",
    "bagging2 = ensemble.BaggingClassifier(dtree, n_estimators=100, max_features=n_f)\n",
    "bag_scores = cross_validation.cross_val_score(bagging2, X, y, cv=cv_size)\n",
    "\n",
    "plot_scores(bag_scores)\n",
    "ans3 = bag_scores.mean()\n",
    "print ans3\n",
    "with open('ans3.txt', 'w') as f_out:\n",
    "        f_out.write(str(ans3))"
   ]
  },
  {
   "cell_type": "markdown",
   "metadata": {},
   "source": [
    "\n",
    "4.\n",
    "\n",
    "Наконец, давайте попробуем выбирать случайные признаки не один раз на все дерево, а при построении каждой вершины дерева. Сделать это несложно: нужно убрать выбор случайного подмножества признаков в BaggingClassifier и добавить его в DecisionTreeClassifier. Какой параметр за это отвечает, можно понять из документации sklearn, либо просто попробовать угадать (скорее всего, у вас сразу получится). Попробуйте выбирать опять же d√ признаков. Качество полученного классификатора на контрольной выборке и будет ответом в пункте 4.\n",
    "\n"
   ]
  },
  {
   "cell_type": "code",
   "execution_count": 22,
   "metadata": {},
   "outputs": [
    {
     "name": "stdout",
     "output_type": "stream",
     "text": [
      "0.956672355451\n"
     ]
    },
    {
     "data": {
      "image/png": "[encoded data removed]",
      "text/plain": [
       "<matplotlib.figure.Figure at 0x99cdf10>"
      ]
     },
     "metadata": {},
     "output_type": "display_data"
    }
   ],
   "source": [
    "tree_f = tree.DecisionTreeClassifier(max_features=n_f)\n",
    "bagging3 = ensemble.BaggingClassifier(tree_f, n_estimators=100)\n",
    "bag_scores = cross_validation.cross_val_score(bagging3, X, y, cv=cv_size)\n",
    "\n",
    "plot_scores(bag_scores)\n",
    "ans4 = bag_scores.mean()\n",
    "print ans4\n",
    "with open('ans4.txt', 'w') as f_out:\n",
    "        f_out.write(str(ans4))"
   ]
  },
  {
   "cell_type": "markdown",
   "metadata": {},
   "source": [
    "5.\n",
    "\n",
    "Полученный в пункте 4 классификатор - бэггинг на рандомизированных деревьях (в которых при построении каждой вершины выбирается случайное подмножество признаков и разбиение ищется только по ним). Это в точности соответствует алгоритму Random Forest, поэтому почему бы не сравнить качество работы классификатора с RandomForestClassifier из sklearn.ensemble. Сделайте это, а затем изучите, как качество классификации на данном датасете зависит от количества деревьев, количества признаков, выбираемых при построении каждой вершины дерева, а также ограничений на глубину дерева. Для наглядности лучше построить графики зависимости качества от значений параметров, но для сдачи задания это делать не обязательно.\n"
   ]
  },
  {
   "cell_type": "code",
   "execution_count": 15,
   "metadata": {},
   "outputs": [
    {
     "name": "stdout",
     "output_type": "stream",
     "text": [
      "Wall time: 1min 43s\n"
     ]
    }
   ],
   "source": [
    "%%time\n",
    "\n",
    "n_trees = [1] + range(5,100,5)\n",
    "scoring = []\n",
    "for n_tree in n_trees:\n",
    "    estimator = ensemble.RandomForestClassifier(n_estimators = n_tree, min_samples_split=5, random_state=1)\n",
    "    score = cross_validation.cross_val_score(estimator, X, y, \n",
    "                                             scoring = 'accuracy', cv = cv_size)    \n",
    "    scoring.append(score)\n",
    "scoring = np.asmatrix(scoring)"
   ]
  },
  {
   "cell_type": "code",
   "execution_count": 16,
   "metadata": {},
   "outputs": [
    {
     "data": {
      "text/plain": [
       "matrix([[ 0.72972973,  0.79234973,  0.73480663,  0.66111111,  0.72625698,\n",
       "          0.69832402,  0.79888268,  0.82022472,  0.66666667,  0.69886364],\n",
       "        [ 0.83243243,  0.91803279,  0.84530387,  0.83333333,  0.93854749,\n",
       "          0.89385475,  0.89385475,  0.93258427,  0.86440678,  0.86931818],\n",
       "        [ 0.88108108,  0.93989071,  0.9281768 ,  0.90555556,  0.9273743 ,\n",
       "          0.94972067,  0.94413408,  0.93820225,  0.89265537,  0.92045455],\n",
       "        [ 0.88648649,  0.97814208,  0.93922652,  0.91666667,  0.94413408,\n",
       "          0.97765363,  0.97206704,  0.94382022,  0.89830508,  0.92613636],\n",
       "        [ 0.88648649,  0.96174863,  0.9281768 ,  0.92777778,  0.94972067,\n",
       "          0.96648045,  0.97206704,  0.96629213,  0.89830508,  0.9375    ],\n",
       "        [ 0.8972973 ,  0.96174863,  0.93370166,  0.94444444,  0.94972067,\n",
       "          0.96089385,  0.97206704,  0.96067416,  0.89830508,  0.9375    ],\n",
       "        [ 0.90810811,  0.96721311,  0.93370166,  0.96111111,  0.96089385,\n",
       "          0.96648045,  0.96648045,  0.96067416,  0.9039548 ,  0.9375    ],\n",
       "        [ 0.8972973 ,  0.9726776 ,  0.93922652,  0.95555556,  0.94972067,\n",
       "          0.96648045,  0.96089385,  0.96629213,  0.90960452,  0.94318182],\n",
       "        [ 0.9027027 ,  0.96721311,  0.93922652,  0.95555556,  0.94972067,\n",
       "          0.97206704,  0.96089385,  0.96629213,  0.90960452,  0.94318182],\n",
       "        [ 0.9027027 ,  0.96721311,  0.94475138,  0.95555556,  0.94972067,\n",
       "          0.96648045,  0.97206704,  0.96629213,  0.89830508,  0.94318182],\n",
       "        [ 0.9027027 ,  0.97814208,  0.95027624,  0.96666667,  0.96089385,\n",
       "          0.97206704,  0.97765363,  0.96629213,  0.9039548 ,  0.94886364],\n",
       "        [ 0.9027027 ,  0.96721311,  0.94475138,  0.96111111,  0.96089385,\n",
       "          0.96089385,  0.97765363,  0.97191011,  0.91525424,  0.95454545],\n",
       "        [ 0.9027027 ,  0.97814208,  0.94475138,  0.97222222,  0.96089385,\n",
       "          0.96089385,  0.97765363,  0.96629213,  0.91525424,  0.94886364],\n",
       "        [ 0.91351351,  0.98360656,  0.94475138,  0.97222222,  0.95530726,\n",
       "          0.96648045,  0.98324022,  0.96629213,  0.90960452,  0.9375    ],\n",
       "        [ 0.90810811,  0.97814208,  0.94475138,  0.96111111,  0.95530726,\n",
       "          0.96648045,  0.98324022,  0.96629213,  0.91525424,  0.9375    ],\n",
       "        [ 0.90810811,  0.97814208,  0.94475138,  0.97222222,  0.96089385,\n",
       "          0.96648045,  0.98324022,  0.97191011,  0.91525424,  0.94318182],\n",
       "        [ 0.90810811,  0.97814208,  0.93922652,  0.96666667,  0.95530726,\n",
       "          0.96648045,  0.98324022,  0.96629213,  0.91525424,  0.94886364],\n",
       "        [ 0.90810811,  0.97814208,  0.93370166,  0.97222222,  0.95530726,\n",
       "          0.97206704,  0.98324022,  0.97191011,  0.90960452,  0.94886364],\n",
       "        [ 0.90810811,  0.97814208,  0.93922652,  0.96666667,  0.96089385,\n",
       "          0.97206704,  0.98324022,  0.97191011,  0.91525424,  0.94886364],\n",
       "        [ 0.90810811,  0.97814208,  0.93922652,  0.97222222,  0.96089385,\n",
       "          0.97206704,  0.98324022,  0.97191011,  0.92090395,  0.94886364]])"
      ]
     },
     "execution_count": 16,
     "metadata": {},
     "output_type": "execute_result"
    }
   ],
   "source": [
    "scoring"
   ]
  },
  {
   "cell_type": "code",
   "execution_count": 17,
   "metadata": {},
   "outputs": [
    {
     "data": {
      "text/plain": [
       "<matplotlib.legend.Legend at 0x99cdc50>"
      ]
     },
     "execution_count": 17,
     "metadata": {},
     "output_type": "execute_result"
    },
    {
     "data": {
      "image/png": "[encoded data removed]",
      "text/plain": [
       "<matplotlib.figure.Figure at 0xa238a10>"
      ]
     },
     "metadata": {},
     "output_type": "display_data"
    }
   ],
   "source": [
    "pylab.plot(n_trees, scoring.mean(axis = 1), marker='.', label='RandomForest')\n",
    "pylab.grid(True)\n",
    "pylab.xlabel('n_trees')\n",
    "pylab.ylabel('score')\n",
    "pylab.title('Accuracy score')\n",
    "pylab.legend(loc='lower right')"
   ]
  },
  {
   "cell_type": "code",
   "execution_count": 18,
   "metadata": {},
   "outputs": [
    {
     "name": "stdout",
     "output_type": "stream",
     "text": [
      "Wall time: 1min 45s\n"
     ]
    }
   ],
   "source": [
    "%%time\n",
    "total_features = X.shape[1]\n",
    "n_features = np.arange(0.1,1.1,0.1)\n",
    "scoring = []\n",
    "for n_feature in n_features:\n",
    "    n_feat = int(n_feature*total_features)\n",
    "    estimator = ensemble.RandomForestClassifier(n_estimators = 50, min_samples_split=5, random_state=1, max_features=n_feat)\n",
    "    score = cross_validation.cross_val_score(estimator, X, y, \n",
    "                                             scoring = 'accuracy', cv = cv_size)    \n",
    "    scoring.append(score)\n",
    "scoring = np.asmatrix(scoring)"
   ]
  },
  {
   "cell_type": "code",
   "execution_count": 19,
   "metadata": {},
   "outputs": [
    {
     "data": {
      "text/plain": [
       "<matplotlib.legend.Legend at 0x95bb9f0>"
      ]
     },
     "execution_count": 19,
     "metadata": {},
     "output_type": "execute_result"
    },
    {
     "data": {
      "image/png": "[encoded data removed]",
      "text/plain": [
       "<matplotlib.figure.Figure at 0xa2380b0>"
      ]
     },
     "metadata": {},
     "output_type": "display_data"
    }
   ],
   "source": [
    "pylab.plot(n_features, scoring.mean(axis = 1), marker='.', label='RandomForest')\n",
    "pylab.grid(True)\n",
    "pylab.xlabel('n_features')\n",
    "pylab.ylabel('score')\n",
    "pylab.title('Accuracy score')\n",
    "pylab.legend(loc='upper right')"
   ]
  },
  {
   "cell_type": "code",
   "execution_count": 20,
   "metadata": {},
   "outputs": [
    {
     "name": "stdout",
     "output_type": "stream",
     "text": [
      "0.908841462279\n",
      "0.952751278756\n"
     ]
    }
   ],
   "source": [
    "estimator1 = ensemble.RandomForestClassifier(n_estimators = 50, min_samples_split=5, random_state=1, max_depth=5)\n",
    "estimator2 = ensemble.RandomForestClassifier(n_estimators = 50, min_samples_split=5, random_state=1)\n",
    "\n",
    "score1 = cross_validation.cross_val_score(estimator1, X, y, scoring = 'accuracy', cv = cv_size) \n",
    "score2 = cross_validation.cross_val_score(estimator2, X, y, scoring = 'accuracy', cv = cv_size)\n",
    "\n",
    "print score1.mean()\n",
    "print score2.mean()"
   ]
  },
  {
   "cell_type": "markdown",
   "metadata": {},
   "source": [
    "\n",
    "На основе наблюдений выпишите через пробел номера правильных утверждений из приведенных ниже в порядке возрастания номера (это будет ответ в п.5)\n",
    "\n",
    "1) Случайный лес сильно переобучается с ростом количества деревьев\n",
    "\n",
    "2) При очень маленьком числе деревьев (5, 10, 15), случайный лес работает хуже, чем при большем числе деревьев\n",
    "\n",
    "3) С ростом количества деревьев в случайном лесе, в какой-то момент деревьев становится достаточно для высокого качества классификации, а затем качество существенно не меняется.\n",
    "\n",
    "4) При большом количестве признаков (для данного датасета - 40, 50) качество классификации становится хуже, чем при малом количестве признаков (5, 10). Это связано с тем, что чем меньше признаков выбирается в каждом узле, тем более различными получаются деревья (ведь деревья сильно неустойчивы к изменениям в обучающей выборке), и тем лучше работает их композиция.\n",
    "\n",
    "5) При большом количестве признаков (40, 50, 60) качество классификации лучше, чем при малом количестве признаков (5, 10). Это связано с тем, что чем больше признаков - тем больше информации об объектах, а значит алгоритм может делать прогнозы более точно.\n",
    "\n",
    "6) При небольшой максимальной глубине деревьев (5-6) качество работы случайного леса намного лучше, чем без ограничения глубины, т.к. деревья получаются не переобученными. С ростом глубины деревьев качество ухудшается.\n",
    "\n",
    "7) При небольшой максимальной глубине деревьев (5-6) качество работы случайного леса заметно хуже, чем без ограничений, т.к. деревья получаются недообученными. С ростом глубины качество сначала улучшается, а затем не меняется существенно, т.к. из-за усреднения прогнозов и различий деревьев их переобученность в бэггинге не сказывается на итоговом качестве (все деревья преобучены по-разному, и при усреднении они компенсируют переобученность друг-друга)."
   ]
  },
  {
   "cell_type": "code",
   "execution_count": 24,
   "metadata": {},
   "outputs": [
    {
     "name": "stdout",
     "output_type": "stream",
     "text": [
      "[2, 3, 4]\n"
     ]
    }
   ],
   "source": [
    "ans5 = [2,3,4]\n",
    "print ans5\n",
    "with open('ans5.txt', 'w') as f_out:\n",
    "        f_out.write(str(ans5))"
   ]
  },
  {
   "cell_type": "code",
   "execution_count": null,
   "metadata": {
    "collapsed": true
   },
   "outputs": [],
   "source": []
  }
 ],
 "metadata": {
  "kernelspec": {
   "display_name": "Python 2",
   "language": "python",
   "name": "python2"
  },
  "language_info": {
   "codemirror_mode": {
    "name": "ipython",
    "version": 2
   },
   "file_extension": ".py",
   "mimetype": "text/x-python",
   "name": "python",
   "nbconvert_exporter": "python",
   "pygments_lexer": "ipython2",
   "version": "2.7.14"
  }
 },
 "nbformat": 4,
 "nbformat_minor": 2
}
