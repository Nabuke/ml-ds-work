{
 "cells": [
  {
   "cell_type": "code",
   "execution_count": 2,
   "metadata": {
    "collapsed": true
   },
   "outputs": [],
   "source": [
    "import pandas as pd\n",
    "import numpy as np\n",
    "from collections import OrderedDict\n",
    "from collections import Counter"
   ]
  },
  {
   "cell_type": "code",
   "execution_count": 3,
   "metadata": {
    "collapsed": true
   },
   "outputs": [],
   "source": [
    "def f7(seq):\n",
    "    seen = set()\n",
    "    seen_add = seen.add\n",
    "    return [x for x in seq if not (x in seen or seen_add(x))]"
   ]
  },
  {
   "cell_type": "code",
   "execution_count": 4,
   "metadata": {
    "collapsed": true
   },
   "outputs": [],
   "source": [
    "def str2list(string):\n",
    "    if len(string) == 0:\n",
    "        return None\n",
    "    try: \n",
    "        return np.array(string.split(','),dtype=np.uint32)\n",
    "    except ValueError as e:\n",
    "        print('string: ', string)"
   ]
  },
  {
   "cell_type": "code",
   "execution_count": null,
   "metadata": {
    "collapsed": true
   },
   "outputs": [],
   "source": [
    "class OrderedCounter(Counter, OrderedDict):\n",
    "    'Counter that remembers the order elements are first encountered'\n",
    "\n",
    "    def __repr__(self):\n",
    "        return '%s(%r)' % (self.__class__.__name__, OrderedDict(self))\n",
    "\n",
    "    def __reduce__(self):\n",
    "        return self.__class__, (OrderedDict(self),)"
   ]
  },
  {
   "cell_type": "code",
   "execution_count": 13,
   "metadata": {
    "collapsed": true
   },
   "outputs": [],
   "source": [
    "def Precision(see,buy, k):\n",
    "#     \n",
    "#     k = min(k,len(see))\n",
    "    \n",
    "#     bough_rec = np.intersect1d(see[:k],buy)\n",
    "    bough_rec = [s for s in buy if s in see[:k]]\n",
    "    \n",
    "    return len(bough_rec)/float(k)"
   ]
  },
  {
   "cell_type": "code",
   "execution_count": 14,
   "metadata": {
    "collapsed": true
   },
   "outputs": [],
   "source": [
    "def Recall(see,buy, k):\n",
    "\n",
    "    k = min(k,len(see))\n",
    "    t = min(len(see),len(buy))\n",
    "#     k = min(k,t)\n",
    "    \n",
    "#     see = [s for s in see if s in dic_set]\n",
    "    \n",
    "    bough_rec = [s for s in buy if s in see[:k]]#np.intersect1d(see[:k],buy)\n",
    "    \n",
    "    return len(bough_rec)/float(t)"
   ]
  },
  {
   "cell_type": "code",
   "execution_count": 5,
   "metadata": {
    "collapsed": true
   },
   "outputs": [],
   "source": [
    "data_train = pd.read_table(\"coursera_sessions_train.txt\",sep=';',header=None,converters={0:str2list, 1:str2list})\n",
    "data_test = pd.read_table(\"coursera_sessions_test.txt\",sep=';',header=None,converters={0:str2list, 1:str2list})\n",
    "\n",
    "data_train.columns=['see','buy']\n",
    "data_test.columns=['see','buy']"
   ]
  },
  {
   "cell_type": "code",
   "execution_count": 6,
   "metadata": {
    "collapsed": true
   },
   "outputs": [],
   "source": [
    "data_train.head(10)"
   ]
  },
  {
   "cell_type": "code",
   "execution_count": 7,
   "metadata": {},
   "outputs": [
    {
     "data": {
      "text/html": [
       "<div>\n",
       "<style>\n",
       "    .dataframe thead tr:only-child th {\n",
       "        text-align: right;\n",
       "    }\n",
       "\n",
       "    .dataframe thead th {\n",
       "        text-align: left;\n",
       "    }\n",
       "\n",
       "    .dataframe tbody tr th {\n",
       "        vertical-align: top;\n",
       "    }\n",
       "</style>\n",
       "<table border=\"1\" class=\"dataframe\">\n",
       "  <thead>\n",
       "    <tr style=\"text-align: right;\">\n",
       "      <th></th>\n",
       "      <th>see</th>\n",
       "      <th>buy</th>\n",
       "    </tr>\n",
       "  </thead>\n",
       "  <tbody>\n",
       "    <tr>\n",
       "      <th>0</th>\n",
       "      <td>[1, 2, 3, 1, 6, 1]</td>\n",
       "      <td>[1]</td>\n",
       "    </tr>\n",
       "    <tr>\n",
       "      <th>1</th>\n",
       "      <td>[1, 4, 5]</td>\n",
       "      <td>[5]</td>\n",
       "    </tr>\n",
       "    <tr>\n",
       "      <th>2</th>\n",
       "      <td>[4, 3, 6]</td>\n",
       "      <td>[4]</td>\n",
       "    </tr>\n",
       "    <tr>\n",
       "      <th>3</th>\n",
       "      <td>[2, 1, 2, 4, 5]</td>\n",
       "      <td>None</td>\n",
       "    </tr>\n",
       "    <tr>\n",
       "      <th>4</th>\n",
       "      <td>[4, 1, 1, 2, 6]</td>\n",
       "      <td>[1, 4]</td>\n",
       "    </tr>\n",
       "  </tbody>\n",
       "</table>\n",
       "</div>"
      ],
      "text/plain": [
       "                  see     buy\n",
       "0  [1, 2, 3, 1, 6, 1]     [1]\n",
       "1           [1, 4, 5]     [5]\n",
       "2           [4, 3, 6]     [4]\n",
       "3     [2, 1, 2, 4, 5]    None\n",
       "4     [4, 1, 1, 2, 6]  [1, 4]"
      ]
     },
     "execution_count": 7,
     "metadata": {},
     "output_type": "execute_result"
    }
   ],
   "source": [
    "test"
   ]
  },
  {
   "cell_type": "code",
   "execution_count": 8,
   "metadata": {
    "collapsed": true
   },
   "outputs": [],
   "source": [
    "test_see = np.concatenate(test.see.values)\n",
    "test_see_vc = pd.Series(test_see).value_counts()"
   ]
  },
  {
   "cell_type": "code",
   "execution_count": 9,
   "metadata": {
    "collapsed": true
   },
   "outputs": [],
   "source": [
    "buy_dict_train = test_see_vc.to_dict()\n",
    "set_dic = set(buy_dict_train)"
   ]
  },
  {
   "cell_type": "code",
   "execution_count": 10,
   "metadata": {
    "collapsed": true
   },
   "outputs": [],
   "source": [
    "test_dropna = test.dropna()\n",
    "\n",
    "len_test = test_dropna.shape[0]"
   ]
  },
  {
   "cell_type": "code",
   "execution_count": 11,
   "metadata": {
    "collapsed": true
   },
   "outputs": [],
   "source": [
    "session=test_dropna.loc[1]"
   ]
  },
  {
   "cell_type": "code",
   "execution_count": 15,
   "metadata": {},
   "outputs": [
    {
     "data": {
      "text/plain": [
       "0.0"
      ]
     },
     "execution_count": 15,
     "metadata": {},
     "output_type": "execute_result"
    }
   ],
   "source": [
    "Recall(test_dropna.iloc[3],buy_dict_train,5)"
   ]
  },
  {
   "cell_type": "code",
   "execution_count": 16,
   "metadata": {},
   "outputs": [
    {
     "data": {
      "text/plain": [
       "[1, 4, 5]"
      ]
     },
     "execution_count": 16,
     "metadata": {},
     "output_type": "execute_result"
    }
   ],
   "source": [
    "see=f7(session.see)\n",
    "buy = session.buy\n",
    "\n",
    "TDSK = set(buy_dict_train.keys())\n",
    "\n",
    "see = [s for s in see if s in TDSK]\n",
    "\n",
    "sorted(see,key= lambda x: buy_dict_train[x],reverse=True)\n",
    "# reccomend = see[:k]\n",
    "\n",
    "# bough_rec = np.intersect1d(reccomend,buy)\n",
    "\n",
    "# print bough_rec.shape[0]/float(buy.shape[0])"
   ]
  },
  {
   "cell_type": "code",
   "execution_count": 17,
   "metadata": {},
   "outputs": [
    {
     "ename": "TypeError",
     "evalue": "Precision() takes exactly 3 arguments (4 given)",
     "output_type": "error",
     "traceback": [
      "\u001b[1;31m---------------------------------------------------------------------------\u001b[0m",
      "\u001b[1;31mTypeError\u001b[0m                                 Traceback (most recent call last)",
      "\u001b[1;32m<ipython-input-17-4b0c16420ee4>\u001b[0m in \u001b[0;36m<module>\u001b[1;34m()\u001b[0m\n\u001b[0;32m      7\u001b[0m     \u001b[0msess\u001b[0m \u001b[1;33m=\u001b[0m \u001b[0mtest_dropna\u001b[0m\u001b[1;33m.\u001b[0m\u001b[0mloc\u001b[0m\u001b[1;33m[\u001b[0m\u001b[0mind\u001b[0m\u001b[1;33m]\u001b[0m\u001b[1;33m\u001b[0m\u001b[0m\n\u001b[0;32m      8\u001b[0m \u001b[1;33m\u001b[0m\u001b[0m\n\u001b[1;32m----> 9\u001b[1;33m     \u001b[0mres_prec1\u001b[0m \u001b[1;33m=\u001b[0m \u001b[0mPrecision\u001b[0m\u001b[1;33m(\u001b[0m\u001b[0msess\u001b[0m\u001b[1;33m,\u001b[0m\u001b[0mbuy_dict_train\u001b[0m\u001b[1;33m,\u001b[0m\u001b[0mset_dic\u001b[0m\u001b[1;33m,\u001b[0m\u001b[1;36m1\u001b[0m\u001b[1;33m)\u001b[0m\u001b[1;33m\u001b[0m\u001b[0m\n\u001b[0m\u001b[0;32m     10\u001b[0m \u001b[1;31m#     print \"res_prec1={}\".format(res_prec1)\u001b[0m\u001b[1;33m\u001b[0m\u001b[1;33m\u001b[0m\u001b[0m\n\u001b[0;32m     11\u001b[0m \u001b[1;31m#     if not res_prec1 == 0:\u001b[0m\u001b[1;33m\u001b[0m\u001b[1;33m\u001b[0m\u001b[0m\n",
      "\u001b[1;31mTypeError\u001b[0m: Precision() takes exactly 3 arguments (4 given)"
     ]
    }
   ],
   "source": [
    "precision_buy_test_1 = 0.0\n",
    "precision_buy_test_5 = 0.0\n",
    "\n",
    "recall_buy_test_1 = 0.0\n",
    "recall_buy_test_5 = 0.0\n",
    "for ind in test_dropna.index:\n",
    "    sess = test_dropna.loc[ind]\n",
    "    \n",
    "    res_prec1 = Precision(sess,buy_dict_train,set_dic,1)\n",
    "#     print \"res_prec1={}\".format(res_prec1)\n",
    "#     if not res_prec1 == 0:\n",
    "    precision_buy_test_1 += res_prec1\n",
    "    precision_buy_test_5 += Precision(sess,buy_dict_train,set_dic,5)\n",
    "    recall_buy_test_1 += Recall(sess,buy_dict_train,set_dic,1)\n",
    "    print \"res_prec5={}\".format(Recall(sess,buy_dict_train,set_dic,5))\n",
    "    recall_buy_test_5 += Recall(sess,buy_dict_train,set_dic,5)"
   ]
  },
  {
   "cell_type": "code",
   "execution_count": null,
   "metadata": {
    "collapsed": true
   },
   "outputs": [],
   "source": [
    "ans1=[recall_buy_test_1/len_test,precision_buy_test_1/len_test,\\\n",
    "recall_buy_test_5/len_test,precision_buy_test_5/len_test]\n",
    "print ans1"
   ]
  },
  {
   "cell_type": "code",
   "execution_count": null,
   "metadata": {
    "collapsed": true
   },
   "outputs": [],
   "source": []
  },
  {
   "cell_type": "code",
   "execution_count": 19,
   "metadata": {},
   "outputs": [],
   "source": [
    "data_train = pd.read_table(\"coursera_sessions_train.txt\",sep=';',header=None,converters={0:str2list, 1:str2list})\n",
    "data_test = pd.read_table(\"coursera_sessions_train.txt\",sep=';',header=None,converters={0:str2list, 1:str2list})\n",
    "\n",
    "data_train.columns=['see','buy']\n",
    "data_test.columns=['see','buy']"
   ]
  },
  {
   "cell_type": "code",
   "execution_count": 20,
   "metadata": {},
   "outputs": [
    {
     "data": {
      "text/html": [
       "<div>\n",
       "<style>\n",
       "    .dataframe thead tr:only-child th {\n",
       "        text-align: right;\n",
       "    }\n",
       "\n",
       "    .dataframe thead th {\n",
       "        text-align: left;\n",
       "    }\n",
       "\n",
       "    .dataframe tbody tr th {\n",
       "        vertical-align: top;\n",
       "    }\n",
       "</style>\n",
       "<table border=\"1\" class=\"dataframe\">\n",
       "  <thead>\n",
       "    <tr style=\"text-align: right;\">\n",
       "      <th></th>\n",
       "      <th>see</th>\n",
       "      <th>buy</th>\n",
       "    </tr>\n",
       "  </thead>\n",
       "  <tbody>\n",
       "    <tr>\n",
       "      <th>0</th>\n",
       "      <td>[0, 1, 2, 3, 4, 5]</td>\n",
       "      <td>None</td>\n",
       "    </tr>\n",
       "    <tr>\n",
       "      <th>1</th>\n",
       "      <td>[9, 10, 11, 9, 11, 12, 9, 11]</td>\n",
       "      <td>None</td>\n",
       "    </tr>\n",
       "    <tr>\n",
       "      <th>2</th>\n",
       "      <td>[16, 17, 18, 19, 20, 21]</td>\n",
       "      <td>None</td>\n",
       "    </tr>\n",
       "    <tr>\n",
       "      <th>3</th>\n",
       "      <td>[24, 25, 26, 27, 24]</td>\n",
       "      <td>None</td>\n",
       "    </tr>\n",
       "    <tr>\n",
       "      <th>4</th>\n",
       "      <td>[34, 35, 36, 34, 37, 35, 36, 37, 38, 39, 38, 39]</td>\n",
       "      <td>None</td>\n",
       "    </tr>\n",
       "  </tbody>\n",
       "</table>\n",
       "</div>"
      ],
      "text/plain": [
       "                                                see   buy\n",
       "0                                [0, 1, 2, 3, 4, 5]  None\n",
       "1                     [9, 10, 11, 9, 11, 12, 9, 11]  None\n",
       "2                          [16, 17, 18, 19, 20, 21]  None\n",
       "3                              [24, 25, 26, 27, 24]  None\n",
       "4  [34, 35, 36, 34, 37, 35, 36, 37, 38, 39, 38, 39]  None"
      ]
     },
     "execution_count": 20,
     "metadata": {},
     "output_type": "execute_result"
    }
   ],
   "source": [
    "data_train.head()"
   ]
  },
  {
   "cell_type": "code",
   "execution_count": 21,
   "metadata": {},
   "outputs": [
    {
     "data": {
      "text/plain": [
       "(3608,)"
      ]
     },
     "execution_count": 21,
     "metadata": {},
     "output_type": "execute_result"
    }
   ],
   "source": [
    "data_train.buy.dropna().shape"
   ]
  },
  {
   "cell_type": "code",
   "execution_count": 23,
   "metadata": {},
   "outputs": [],
   "source": [
    "train_see = np.concatenate(data_train.see.values)\n",
    "train_see_vc = pd.Series(train_see).value_counts()\n",
    "ts_index = train_see_vc.index.values"
   ]
  },
  {
   "cell_type": "code",
   "execution_count": 24,
   "metadata": {
    "collapsed": true
   },
   "outputs": [],
   "source": [
    "train_buy = np.concatenate(data_train.buy.dropna().values)"
   ]
  },
  {
   "cell_type": "code",
   "execution_count": 25,
   "metadata": {
    "collapsed": true
   },
   "outputs": [],
   "source": [
    "train_buy_vctrain_bu =pd.Series(train_buy).value_counts()"
   ]
  },
  {
   "cell_type": "code",
   "execution_count": 26,
   "metadata": {
    "collapsed": true
   },
   "outputs": [],
   "source": [
    "train_see_dic = train_see_vc.to_dict()"
   ]
  },
  {
   "cell_type": "code",
   "execution_count": 27,
   "metadata": {
    "collapsed": true
   },
   "outputs": [],
   "source": [
    "buy_dict_trainbuy_dict  = OrderedDict()\n",
    "\n",
    "for ind in data_train.index:\n",
    "    raw = data_train.loc[ind]\n",
    "            \n",
    "    buy_l_values = raw.buy\n",
    "    if buy_l_values is None:\n",
    "        continue\n",
    "    for val in buy_l_values:\n",
    "        if val in buy_dict_train.keys():\n",
    "            buy_dict_train[val] += 1\n",
    "        else:\n",
    "            buy_dict_train[val] = 1"
   ]
  },
  {
   "cell_type": "code",
   "execution_count": 28,
   "metadata": {
    "collapsed": true
   },
   "outputs": [],
   "source": [
    "def Precision(session, dic_sort,dic_set , k):\n",
    "    see=session.see\n",
    "    \n",
    "    buy = session.buy\n",
    "    \n",
    "    k = min(k,see.shape[0])\n",
    "    see = f7(see)\n",
    "    \n",
    "    see = [s for s in see if s in dic_set]\n",
    "    \n",
    "    if len(see) == 0:\n",
    "        return 0\n",
    "    \n",
    "    sorted(see,key= lambda x: train_see_dic[x],reverse=True)\n",
    "    reccomend = see[:k]\n",
    "    \n",
    "    bough_rec = np.intersect1d(reccomend,buy)\n",
    "    \n",
    "    return bough_rec.shape[0]/float(k)"
   ]
  },
  {
   "cell_type": "code",
   "execution_count": 29,
   "metadata": {
    "collapsed": true
   },
   "outputs": [],
   "source": [
    "def Recall(session, buy,dic_set, k):\n",
    "    see=session.see\n",
    "    \n",
    "    buy = session.buy\n",
    "    k = min(k,see.shape[0])\n",
    "    t = min(see.shape[0],buy.shape[0])\n",
    "    see = f7(see)\n",
    "    \n",
    "    \n",
    "    \n",
    "    see = [s for s in see if s in dic_set]\n",
    "    \n",
    "    if len(see) == 0:\n",
    "        return 0\n",
    "    \n",
    "    sorted(see,key= lambda x: train_see_dic[x],reverse=True)\n",
    "    reccomend = see[:k]\n",
    "    \n",
    "    bough_rec = np.intersect1d(reccomend,buy)\n",
    "    \n",
    "    return bough_rec.shape[0]/float(t)"
   ]
  },
  {
   "cell_type": "code",
   "execution_count": null,
   "metadata": {
    "collapsed": true
   },
   "outputs": [],
   "source": []
  },
  {
   "cell_type": "code",
   "execution_count": 30,
   "metadata": {
    "collapsed": true
   },
   "outputs": [],
   "source": [
    "train_see_dic=buy_dict_train"
   ]
  },
  {
   "cell_type": "code",
   "execution_count": 31,
   "metadata": {
    "collapsed": true
   },
   "outputs": [],
   "source": [
    "test_dropna = data_test.dropna()\n",
    "\n",
    "len_test = test_dropna.shape[0]"
   ]
  },
  {
   "cell_type": "code",
   "execution_count": 32,
   "metadata": {
    "collapsed": true
   },
   "outputs": [],
   "source": [
    "dict_set = set(train_see_dic.keys())"
   ]
  },
  {
   "cell_type": "code",
   "execution_count": 33,
   "metadata": {},
   "outputs": [
    {
     "name": "stdout",
     "output_type": "stream",
     "text": [
      "0.701883950768 0.82012195122 0.930125307065 0.459160199557\n"
     ]
    }
   ],
   "source": [
    "precision_buy_test_1 = 0.0\n",
    "precision_buy_test_5 = 0.0\n",
    "\n",
    "recall_buy_test_1 = 0.0\n",
    "recall_buy_test_5 = 0.0\n",
    "for ind in test_dropna.index:\n",
    "    sess = test_dropna.loc[ind]\n",
    "\n",
    "    precision_buy_test_1 += Precision(sess,train_see_dic,dict_set,1)\n",
    "    precision_buy_test_5 += Precision(sess,train_see_dic,dict_set,5)\n",
    "    recall_buy_test_1 += Recall(sess,train_see_dic,dict_set,1)\n",
    "    recall_buy_test_5 += Recall(sess,train_see_dic,dict_set,5)\n",
    "print recall_buy_test_1/len_test,precision_buy_test_1/len_test,\\\n",
    "recall_buy_test_5/len_test,precision_buy_test_5/len_test"
   ]
  },
  {
   "cell_type": "code",
   "execution_count": 34,
   "metadata": {},
   "outputs": [
    {
     "name": "stdout",
     "output_type": "stream",
     "text": [
      "[0.7018839507683746, 0.8201219512195121, 0.9301253070654397, 0.45916019955655024]\n"
     ]
    }
   ],
   "source": [
    "ans1=[recall_buy_test_1/len_test,precision_buy_test_1/len_test,\\\n",
    "recall_buy_test_5/len_test,precision_buy_test_5/len_test]\n",
    "print ans1"
   ]
  },
  {
   "cell_type": "code",
   "execution_count": 35,
   "metadata": {
    "collapsed": true
   },
   "outputs": [],
   "source": [
    "ans1=map(lambda x : round(x,2),ans1)"
   ]
  },
  {
   "cell_type": "code",
   "execution_count": 36,
   "metadata": {},
   "outputs": [
    {
     "data": {
      "text/plain": [
       "'[0.7, 0.82, 0.93, 0.46]'"
      ]
     },
     "execution_count": 36,
     "metadata": {},
     "output_type": "execute_result"
    }
   ],
   "source": [
    "str(ans1)"
   ]
  },
  {
   "cell_type": "code",
   "execution_count": 37,
   "metadata": {},
   "outputs": [],
   "source": [
    "with open(\"ans1\",\"w\") as f:\n",
    "    for an in ans1:\n",
    "        f.write(str(an)+' ')"
   ]
  },
  {
   "cell_type": "code",
   "execution_count": null,
   "metadata": {
    "collapsed": true
   },
   "outputs": [],
   "source": []
  }
 ],
 "metadata": {
  "kernelspec": {
   "display_name": "Python 2",
   "language": "python",
   "name": "python2"
  },
  "language_info": {
   "codemirror_mode": {
    "name": "ipython",
    "version": 2
   },
   "file_extension": ".py",
   "mimetype": "text/x-python",
   "name": "python",
   "nbconvert_exporter": "python",
   "pygments_lexer": "ipython2",
   "version": "2.7.14"
  }
 },
 "nbformat": 4,
 "nbformat_minor": 2
}
