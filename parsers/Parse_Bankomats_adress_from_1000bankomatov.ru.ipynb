{
 "cells": [
  {
   "cell_type": "code",
   "execution_count": 24,
   "metadata": {},
   "outputs": [],
   "source": [
    "import requests\n",
    "resp = requests.get(\"http://1000bankov.ru/cities.php?p=/bankomats/\")\n",
    "resp.encoding = 'utf-8'\n",
    "html = resp.text"
   ]
  },
  {
   "cell_type": "code",
   "execution_count": 75,
   "metadata": {},
   "outputs": [],
   "source": [
    "from bs4 import BeautifulSoup\n",
    "soup = BeautifulSoup(html,'lxml')"
   ]
  },
  {
   "cell_type": "code",
   "execution_count": 85,
   "metadata": {},
   "outputs": [],
   "source": [
    "div = soup.find('div',class_=\"list\")"
   ]
  },
  {
   "cell_type": "code",
   "execution_count": 86,
   "metadata": {},
   "outputs": [],
   "source": [
    "links = div.find_all('a')"
   ]
  },
  {
   "cell_type": "code",
   "execution_count": 104,
   "metadata": {},
   "outputs": [],
   "source": [
    "links_list = [link['href'] for link in links]"
   ]
  },
  {
   "cell_type": "code",
   "execution_count": 91,
   "metadata": {},
   "outputs": [],
   "source": [
    "citys_list = [link.next for link in links]"
   ]
  },
  {
   "cell_type": "code",
   "execution_count": 92,
   "metadata": {},
   "outputs": [],
   "source": [
    "import numpy as np\n",
    "import pandas as pd"
   ]
  },
  {
   "cell_type": "code",
   "execution_count": 111,
   "metadata": {},
   "outputs": [],
   "source": [
    "df_city = pd.DataFrame(np.vstack([citys_list,links_list]).T, columns=['city','href'])"
   ]
  },
  {
   "cell_type": "code",
   "execution_count": 197,
   "metadata": {},
   "outputs": [],
   "source": [
    "df_city.to_excel(\"Города с 1000банков.xlsx\")"
   ]
  },
  {
   "cell_type": "markdown",
   "metadata": {},
   "source": [
    "номера банков"
   ]
  },
  {
   "cell_type": "code",
   "execution_count": 113,
   "metadata": {},
   "outputs": [],
   "source": [
    "resp = requests.get(\"http://1000bankov.ru/bank/?p=3\")\n",
    "resp.encoding = 'utf-8'\n",
    "html = resp.text"
   ]
  },
  {
   "cell_type": "code",
   "execution_count": 114,
   "metadata": {},
   "outputs": [],
   "source": [
    "soup = BeautifulSoup(html,'lxml')"
   ]
  },
  {
   "cell_type": "code",
   "execution_count": 116,
   "metadata": {},
   "outputs": [],
   "source": [
    "table = soup.tbody"
   ]
  },
  {
   "cell_type": "code",
   "execution_count": 118,
   "metadata": {},
   "outputs": [],
   "source": [
    "links = table.find_all('a')\n",
    "links_list = [link['href'] for link in links]\n",
    "bank_list = [link.next.n for link in links]"
   ]
  },
  {
   "cell_type": "code",
   "execution_count": 119,
   "metadata": {},
   "outputs": [],
   "source": [
    "df_bank = pd.DataFrame(np.vstack([bank_list,links_list]).T, columns=['bank','href'])"
   ]
  },
  {
   "cell_type": "code",
   "execution_count": 192,
   "metadata": {},
   "outputs": [],
   "source": [
    "import time\n",
    "time.sleep(5)"
   ]
  },
  {
   "cell_type": "code",
   "execution_count": 204,
   "metadata": {},
   "outputs": [
    {
     "name": "stdout",
     "output_type": "stream",
     "text": [
      "http://1000bankov.ru/bank/?p=1\n",
      "http://1000bankov.ru/bank/?p=2\n",
      "http://1000bankov.ru/bank/?p=3\n",
      "http://1000bankov.ru/bank/?p=4\n",
      "http://1000bankov.ru/bank/?p=5\n",
      "http://1000bankov.ru/bank/?p=6\n",
      "http://1000bankov.ru/bank/?p=7\n",
      "http://1000bankov.ru/bank/?p=8\n",
      "http://1000bankov.ru/bank/?p=9\n",
      "http://1000bankov.ru/bank/?p=10\n",
      "http://1000bankov.ru/bank/?p=11\n",
      "http://1000bankov.ru/bank/?p=12\n",
      "http://1000bankov.ru/bank/?p=13\n",
      "http://1000bankov.ru/bank/?p=14\n",
      "http://1000bankov.ru/bank/?p=15\n",
      "http://1000bankov.ru/bank/?p=16\n",
      "http://1000bankov.ru/bank/?p=17\n"
     ]
    }
   ],
   "source": [
    "all_banks = pd.DataFrame(columns=['bank','href'])\n",
    "for i in range(1,18):\n",
    "    adress = \"http://1000bankov.ru/bank/?p=\"+str(i)\n",
    "    print (adress)\n",
    "    resp = requests.get(adress)\n",
    "    resp.encoding = 'utf-8'\n",
    "    html = resp.text\n",
    "    soup = BeautifulSoup(html,'lxml')\n",
    "    table = soup.tbody\n",
    "    links = table.find_all('a')\n",
    "    links_list = [link['href'] for link in links]\n",
    "    bank_list = [link.next for link in links]\n",
    "    df_bank = pd.DataFrame(np.vstack([bank_list,links_list]).T, columns=['bank','href'])\n",
    "    all_banks = all_banks.append(df_bank)\n",
    "    #time.sleep(5 + np.random.randint(5))"
   ]
  },
  {
   "cell_type": "code",
   "execution_count": 218,
   "metadata": {},
   "outputs": [],
   "source": [
    "all_banks = all_banks.reset_index(drop=True)\n",
    "all_banks.to_excel(\"Банки с 1000 банков.xlsx\")"
   ]
  },
  {
   "cell_type": "code",
   "execution_count": 226,
   "metadata": {},
   "outputs": [],
   "source": [
    "all_strings = []\n",
    "for i in range(all_banks.shape[0]):\n",
    "    all_strings.append(all_banks.href[i].split('/'))"
   ]
  },
  {
   "cell_type": "code",
   "execution_count": 231,
   "metadata": {},
   "outputs": [],
   "source": [
    "all_strings = pd.DataFrame(all_strings,columns = [0,1,2,3,'number',5])"
   ]
  },
  {
   "cell_type": "code",
   "execution_count": 235,
   "metadata": {},
   "outputs": [],
   "source": [
    "banks = np.unique(all_strings.number.dropna())"
   ]
  },
  {
   "cell_type": "code",
   "execution_count": 236,
   "metadata": {},
   "outputs": [],
   "source": [
    "banks = pd.DataFrame(banks)\n",
    "banks.to_excel('Номера банков.xlsx')"
   ]
  },
  {
   "cell_type": "code",
   "execution_count": null,
   "metadata": {},
   "outputs": [],
   "source": []
  },
  {
   "cell_type": "code",
   "execution_count": null,
   "metadata": {},
   "outputs": [],
   "source": [
    "1000bankov.ru/bankomats/2272/"
   ]
  },
  {
   "cell_type": "code",
   "execution_count": 259,
   "metadata": {},
   "outputs": [],
   "source": [
    "resp = requests.get(\"http://chelyabinsk.1000bankov.ru/bankomats/2272/\")\n",
    "resp.encoding = 'utf-8'\n",
    "html = resp.text\n",
    "soup = BeautifulSoup(html,'lxml')"
   ]
  },
  {
   "cell_type": "code",
   "execution_count": 264,
   "metadata": {},
   "outputs": [],
   "source": [
    "table = soup.find_all('script', type=\"text/javascript\")"
   ]
  },
  {
   "cell_type": "code",
   "execution_count": 271,
   "metadata": {},
   "outputs": [
    {
     "ename": "AttributeError",
     "evalue": "ResultSet object has no attribute 'find'. You're probably treating a list of items like a single item. Did you call find_all() when you meant to call find()?",
     "output_type": "error",
     "traceback": [
      "\u001b[1;31m---------------------------------------------------------------------------\u001b[0m",
      "\u001b[1;31mAttributeError\u001b[0m                            Traceback (most recent call last)",
      "\u001b[1;32m<ipython-input-271-060431a0e394>\u001b[0m in \u001b[0;36m<module>\u001b[1;34m()\u001b[0m\n\u001b[1;32m----> 1\u001b[1;33m \u001b[0mtable\u001b[0m\u001b[1;33m.\u001b[0m\u001b[0mfind\u001b[0m\u001b[1;33m(\u001b[0m\u001b[1;34m'div'\u001b[0m\u001b[1;33m)\u001b[0m\u001b[1;33m\u001b[0m\u001b[0m\n\u001b[0m",
      "\u001b[1;32m~\\Anaconda3\\lib\\site-packages\\bs4\\element.py\u001b[0m in \u001b[0;36m__getattr__\u001b[1;34m(self, key)\u001b[0m\n\u001b[0;32m   1882\u001b[0m     \u001b[1;32mdef\u001b[0m \u001b[0m__getattr__\u001b[0m\u001b[1;33m(\u001b[0m\u001b[0mself\u001b[0m\u001b[1;33m,\u001b[0m \u001b[0mkey\u001b[0m\u001b[1;33m)\u001b[0m\u001b[1;33m:\u001b[0m\u001b[1;33m\u001b[0m\u001b[0m\n\u001b[0;32m   1883\u001b[0m         raise AttributeError(\n\u001b[1;32m-> 1884\u001b[1;33m             \u001b[1;34m\"ResultSet object has no attribute '%s'. You're probably treating a list of items like a single item. Did you call find_all() when you meant to call find()?\"\u001b[0m \u001b[1;33m%\u001b[0m \u001b[0mkey\u001b[0m\u001b[1;33m\u001b[0m\u001b[0m\n\u001b[0m\u001b[0;32m   1885\u001b[0m         )\n",
      "\u001b[1;31mAttributeError\u001b[0m: ResultSet object has no attribute 'find'. You're probably treating a list of items like a single item. Did you call find_all() when you meant to call find()?"
     ]
    }
   ],
   "source": [
    "table.find('div')"
   ]
  },
  {
   "cell_type": "code",
   "execution_count": 269,
   "metadata": {
    "scrolled": false
   },
   "outputs": [
    {
     "data": {
      "text/plain": [
       "[<script defer=\"\" src=\"http://api-maps.yandex.ru/2.0/?load=package.standard,package.clusters&amp;lang=ru-RU\" type=\"text/javascript\"></script>,\n",
       " <script defer=\"\" type=\"text/javascript\">\n",
       " $(document).ready(function (){      \n",
       "       ymaps.ready(init);\n",
       " \t  \t// Создание переменной карты\t\t\n",
       "         var myMap,\n",
       " \t\t\tmyCluster, // Кластер\t\t\t\n",
       " \t\t\tmyPlacemark, // Метка \n",
       " \t\t\tplacemarks = [], // Массив меток\n",
       " \t\t\tbank_icon;\n",
       " \t\t\t\n",
       " \t\t// Создание карты\n",
       "         function init()\n",
       " \t\t{ \n",
       " \t\t\tmyMap = new ymaps.Map (\"map\", {center: [55.264615,61.397741], zoom: 12}); //55.74954 ,37.621587\n",
       " \t\t\t\n",
       " \t\t\t// Панель инструментов со стандартным набором кнопок\n",
       " \t\t\tmyMap.controls.add(\"mapTools\");\n",
       " \t\t\t// Переключатель отображаемого типа карты\n",
       " \t\t\tmyMap.controls.add(\"typeSelector\");\t\t\n",
       " \t\t\t// Добавление на карту панели изменения масштаба\n",
       " \t\t\tmyMap.controls.add(\"zoomControl\");\n",
       " \t\t\t// Добавление на карту поисковой строки\n",
       " \t\t\tmyMap.controls.add(\"searchControl\");\n",
       " \t\t\t\n",
       " \t\t\t// событие центровки на карте\n",
       " \t\t\t$(\"li#metka\").live(\"click\",function(){\n",
       " \t\t\t\t$.post(\"http://1000bankov.ru/upload.php\",{metka:true,id:$(this).attr(\"link\")},function(data){\n",
       " \t\t\t\t\tvar arr = data.split(\",\");\n",
       " \t\t\t\t\tmyMap.setCenter([arr[0],arr[1]], 15, {checkZoomRange: true});\n",
       " \t\t\t\t});\t\n",
       " \t\t\t});\n",
       " \t\t\t\n",
       " \t\t\t// Создаем кластеризатор\n",
       " \t\t\tmyCluster = new ymaps.Clusterer();\n",
       " \t\t\t// Создаем коллекцию геообъектов.\n",
       " \t\t\tbank_icon = new ymaps.GeoObjectCollection();\n",
       " \t\t\t\n",
       " \t\t\n",
       " \t\t\t//Создание иконки банка и добавление ее в коллекцию\n",
       " \t\t\tmyPlacemark = new ymaps.Placemark([55.264615,61.397741],{balloonContent: '<div style=\"text-align:center\"><img style=\"max-width: 100px;\" src=\"http://rubanks.in/images/logo/2272_logo_bnk.jpg\" alt=\"\"><h2 style=\"margin: 2px\">Росбанк</h2>60-летия Октября, 12. <br>круглосуточно<br><a target=\"_blank\" rel=\"nofollow\" href=\"http://1000bankov.ru/taxi/?lng=61.397741&lat=55.264615\" style=\"color: #0099DE;\"><img src=\"/images/taxi.png\" class=\"img_taxi\">Заказать такси до банкомата</a></div>',clusterCaption:' Росбанк, ПАО'},{});bank_icon.add(myPlacemark);\n",
       " \t\t\t\t\t\t\tplacemarks[0] = myPlacemark;myPlacemark = new ymaps.Placemark([55.163831,61.430148],{balloonContent: '<div style=\"text-align:center\"><img style=\"max-width: 100px;\" src=\"http://rubanks.in/images/logo/2272_logo_bnk.jpg\" alt=\"\"><h2 style=\"margin: 2px\">Росбанк</h2>Артиллерийская, 136. 1 этаж<br>ежедневно с 10:00 до 22:00;<br><a target=\"_blank\" rel=\"nofollow\" href=\"http://1000bankov.ru/taxi/?lng=61.430148&lat=55.163831\" style=\"color: #0099DE;\"><img src=\"/images/taxi.png\" class=\"img_taxi\">Заказать такси до банкомата</a></div>',clusterCaption:' Росбанк, ПАО'},{});bank_icon.add(myPlacemark);\n",
       " \t\t\t\t\t\t\tplacemarks[1] = myPlacemark;myPlacemark = new ymaps.Placemark([55.17224,61.304479],{balloonContent: '<div style=\"text-align:center\"><img style=\"max-width: 100px;\" src=\"http://rubanks.in/images/logo/2272_logo_bnk.jpg\" alt=\"\"><h2 style=\"margin: 2px\">Росбанк</h2>Братьев Кашириных, 133. <br>ежедневно с 08:00 до 19:00;<br><a target=\"_blank\" rel=\"nofollow\" href=\"http://1000bankov.ru/taxi/?lng=61.304479&lat=55.17224\" style=\"color: #0099DE;\"><img src=\"/images/taxi.png\" class=\"img_taxi\">Заказать такси до банкомата</a></div>',clusterCaption:' Росбанк, ПАО'},{});bank_icon.add(myPlacemark);\n",
       " \t\t\t\t\t\t\tplacemarks[2] = myPlacemark;myPlacemark = new ymaps.Placemark([55.124522,61.433915],{balloonContent: '<div style=\"text-align:center\"><img style=\"max-width: 100px;\" src=\"http://rubanks.in/images/logo/2272_logo_bnk.jpg\" alt=\"\"><h2 style=\"margin: 2px\">Росбанк</h2>Гагарина, 48. 1 этаж<br>ежедневно с 09:00 до 22:00;<br><a target=\"_blank\" rel=\"nofollow\" href=\"http://1000bankov.ru/taxi/?lng=61.433915&lat=55.124522\" style=\"color: #0099DE;\"><img src=\"/images/taxi.png\" class=\"img_taxi\">Заказать такси до банкомата</a></div>',clusterCaption:' Росбанк, ПАО'},{});bank_icon.add(myPlacemark);\n",
       " \t\t\t\t\t\t\tplacemarks[3] = myPlacemark;myPlacemark = new ymaps.Placemark([55.19488,61.303548],{balloonContent: '<div style=\"text-align:center\"><img style=\"max-width: 100px;\" src=\"http://rubanks.in/images/logo/2272_logo_bnk.jpg\" alt=\"\"><h2 style=\"margin: 2px\">Росбанк</h2>Комсомольский проспект, 86. <br>круглосуточно<br><a target=\"_blank\" rel=\"nofollow\" href=\"http://1000bankov.ru/taxi/?lng=61.303548&lat=55.19488\" style=\"color: #0099DE;\"><img src=\"/images/taxi.png\" class=\"img_taxi\">Заказать такси до банкомата</a></div>',clusterCaption:' Росбанк, ПАО'},{});bank_icon.add(myPlacemark);\n",
       " \t\t\t\t\t\t\tplacemarks[4] = myPlacemark;myPlacemark = new ymaps.Placemark([55.156173,61.365167],{balloonContent: '<div style=\"text-align:center\"><img style=\"max-width: 100px;\" src=\"http://rubanks.in/images/logo/2272_logo_bnk.jpg\" alt=\"\"><h2 style=\"margin: 2px\">Росбанк</h2>Лесопарковая, 7. <br>пн - пт круглосуточно;<br><span style=\"color: green;\"> С функцией приёма наличных.</span><br><a target=\"_blank\" rel=\"nofollow\" href=\"http://1000bankov.ru/taxi/?lng=61.365167&lat=55.156173\" style=\"color: #0099DE;\"><img src=\"/images/taxi.png\" class=\"img_taxi\">Заказать такси до банкомата</a></div>',clusterCaption:' Росбанк, ПАО'},{});bank_icon.add(myPlacemark);\n",
       " \t\t\t\t\t\t\tplacemarks[5] = myPlacemark;myPlacemark = new ymaps.Placemark([55.165794,61.412364],{balloonContent: '<div style=\"text-align:center\"><img style=\"max-width: 100px;\" src=\"http://rubanks.in/images/logo/2272_logo_bnk.jpg\" alt=\"\"><h2 style=\"margin: 2px\">Росбанк</h2>Маркса, 38. 1 этаж<br>круглосуточно<br><span style=\"color: green;\"> С функцией приёма наличных.</span><br><a target=\"_blank\" rel=\"nofollow\" href=\"http://1000bankov.ru/taxi/?lng=61.412364&lat=55.165794\" style=\"color: #0099DE;\"><img src=\"/images/taxi.png\" class=\"img_taxi\">Заказать такси до банкомата</a></div>',clusterCaption:' Росбанк, ПАО'},{});bank_icon.add(myPlacemark);\n",
       " \t\t\t\t\t\t\tplacemarks[6] = myPlacemark;myPlacemark = new ymaps.Placemark([55.204834,61.326016],{balloonContent: '<div style=\"text-align:center\"><img style=\"max-width: 100px;\" src=\"http://rubanks.in/images/logo/2272_logo_bnk.jpg\" alt=\"\"><h2 style=\"margin: 2px\">Росбанк</h2>Молодогвардейцев, 7. 1 этаж<br>ежедневно с 08:00 до 24:00;<br><a target=\"_blank\" rel=\"nofollow\" href=\"http://1000bankov.ru/taxi/?lng=61.326016&lat=55.204834\" style=\"color: #0099DE;\"><img src=\"/images/taxi.png\" class=\"img_taxi\">Заказать такси до банкомата</a></div>',clusterCaption:' Росбанк, ПАО'},{});bank_icon.add(myPlacemark);\n",
       " \t\t\t\t\t\t\tplacemarks[7] = myPlacemark;myPlacemark = new ymaps.Placemark([55.162891,61.416864],{balloonContent: '<div style=\"text-align:center\"><img style=\"max-width: 100px;\" src=\"http://rubanks.in/images/logo/2272_logo_bnk.jpg\" alt=\"\"><h2 style=\"margin: 2px\">Росбанк</h2>МОПРа площадь, 9. <br>пн - пт с 10:00 до 19:00;<br><span style=\"color: green;\"> С функцией приёма наличных.</span><br><a target=\"_blank\" rel=\"nofollow\" href=\"http://1000bankov.ru/taxi/?lng=61.416864&lat=55.162891\" style=\"color: #0099DE;\"><img src=\"/images/taxi.png\" class=\"img_taxi\">Заказать такси до банкомата</a></div>',clusterCaption:' Росбанк, ПАО'},{});bank_icon.add(myPlacemark);\n",
       " \t\t\t\t\t\t\tplacemarks[8] = myPlacemark;myPlacemark = new ymaps.Placemark([55.25277,61.37775],{balloonContent: '<div style=\"text-align:center\"><img style=\"max-width: 100px;\" src=\"http://rubanks.in/images/logo/2272_logo_bnk.jpg\" alt=\"\"><h2 style=\"margin: 2px\">Росбанк</h2>Румянцева, 28 к1. <br>пн - чт с 08:00 до 17:00; пт с 08:00 до 16:00;<br><a target=\"_blank\" rel=\"nofollow\" href=\"http://1000bankov.ru/taxi/?lng=61.37775&lat=55.25277\" style=\"color: #0099DE;\"><img src=\"/images/taxi.png\" class=\"img_taxi\">Заказать такси до банкомата</a></div>',clusterCaption:' Росбанк, ПАО'},{});bank_icon.add(myPlacemark);\n",
       " \t\t\t\t\t\t\tplacemarks[9] = myPlacemark;myPlacemark = new ymaps.Placemark([55.253128,61.378177],{balloonContent: '<div style=\"text-align:center\"><img style=\"max-width: 100px;\" src=\"http://rubanks.in/images/logo/2272_logo_bnk.jpg\" alt=\"\"><h2 style=\"margin: 2px\">Росбанк</h2>Румянцева, 28 к2. <br>пн - пт с 08:00 до 19:00;<br><a target=\"_blank\" rel=\"nofollow\" href=\"http://1000bankov.ru/taxi/?lng=61.378177&lat=55.253128\" style=\"color: #0099DE;\"><img src=\"/images/taxi.png\" class=\"img_taxi\">Заказать такси до банкомата</a></div>',clusterCaption:' Росбанк, ПАО'},{});bank_icon.add(myPlacemark);\n",
       " \t\t\t\t\t\t\tplacemarks[10] = myPlacemark;myPlacemark = new ymaps.Placemark([55.169462,61.443481],{balloonContent: '<div style=\"text-align:center\"><img style=\"max-width: 100px;\" src=\"http://rubanks.in/images/logo/2272_logo_bnk.jpg\" alt=\"\"><h2 style=\"margin: 2px\">Росбанк</h2>Салютная, 27. <br>пн - пт с 09:00 до 18:00;<br><a target=\"_blank\" rel=\"nofollow\" href=\"http://1000bankov.ru/taxi/?lng=61.443481&lat=55.169462\" style=\"color: #0099DE;\"><img src=\"/images/taxi.png\" class=\"img_taxi\">Заказать такси до банкомата</a></div>',clusterCaption:' Росбанк, ПАО'},{});bank_icon.add(myPlacemark);\n",
       " \t\t\t\t\t\t\tplacemarks[11] = myPlacemark;myPlacemark = new ymaps.Placemark([55.170353,61.374548],{balloonContent: '<div style=\"text-align:center\"><img style=\"max-width: 100px;\" src=\"http://rubanks.in/images/logo/2272_logo_bnk.jpg\" alt=\"\"><h2 style=\"margin: 2px\">Росбанк</h2>Труда, 166. 1 этаж<br>ежедневно с 10:00 до 22:00;<br><a target=\"_blank\" rel=\"nofollow\" href=\"http://1000bankov.ru/taxi/?lng=61.374548&lat=55.170353\" style=\"color: #0099DE;\"><img src=\"/images/taxi.png\" class=\"img_taxi\">Заказать такси до банкомата</a></div>',clusterCaption:' Росбанк, ПАО'},{});bank_icon.add(myPlacemark);\n",
       " \t\t\t\t\t\t\tplacemarks[12] = myPlacemark;myPlacemark = new ymaps.Placemark([55.164725,61.404522],{balloonContent: '<div style=\"text-align:center\"><img style=\"max-width: 100px;\" src=\"http://rubanks.in/images/logo/2272_logo_bnk.jpg\" alt=\"\"><h2 style=\"margin: 2px\">Росбанк</h2>Цвиллинга, 25. <br>ежедневно с 10:00 до 22:00;<br><a target=\"_blank\" rel=\"nofollow\" href=\"http://1000bankov.ru/taxi/?lng=61.404522&lat=55.164725\" style=\"color: #0099DE;\"><img src=\"/images/taxi.png\" class=\"img_taxi\">Заказать такси до банкомата</a></div>',clusterCaption:' Росбанк, ПАО'},{});bank_icon.add(myPlacemark);\n",
       " \t\t\t\t\t\t\tplacemarks[13] = myPlacemark;myPlacemark = new ymaps.Placemark([55.160402,61.381564],{balloonContent: '<div style=\"text-align:center\"><img style=\"max-width: 100px;\" src=\"http://rubanks.in/images/logo/2272_logo_bnk.jpg\" alt=\"\"><h2 style=\"margin: 2px\">Росбанк</h2>Энгельса, 65. 1 этаж<br>круглосуточно<br><a target=\"_blank\" rel=\"nofollow\" href=\"http://1000bankov.ru/taxi/?lng=61.381564&lat=55.160402\" style=\"color: #0099DE;\"><img src=\"/images/taxi.png\" class=\"img_taxi\">Заказать такси до банкомата</a></div>',clusterCaption:' Росбанк, ПАО'},{});bank_icon.add(myPlacemark);\n",
       " \t\t\t\t\t\t\tplacemarks[14] = myPlacemark;\n",
       " \t\t\t\t\t\t\t// Добавляем коллекцию на карту.\n",
       " \t\t\t\t\t\t\tmyMap.geoObjects.add(bank_icon);\n",
       " \t\t\t\t\t\t\t// Устанавливаем карте центр и масштаб так, чтобы охватить коллекцию целиком.\n",
       " \t\t\t\t\t\t\tmyMap.setBounds(bank_icon.getBounds(),{checkZoomRange: true});\n",
       " \t\t\t\t\t\t\t// Удалить коллекцию\n",
       " \t\t\t\t\t\t\tmyMap.geoObjects.remove(bank_icon);\t\n",
       " \t\t\t\t\t\t\t// Добавлеяем массив меток в кластер\n",
       "     \t\t\t\t\t\tmyCluster.add(placemarks);\t\t\t\t\t\t\t\n",
       " \t\t\t\t\t\t\t// Добавляем кластер на карту.\n",
       " \t\t\t\t\t\t\tmyMap.geoObjects.add(myCluster);\n",
       " \t\t\t\t\t\t\t\t\t\t\t\n",
       "         }\n",
       " })\t\t\n",
       " </script>,\n",
       " <script defer=\"\" src=\"/js_new/jquery.stickytableheaders.js\" type=\"text/javascript\"></script>,\n",
       " <script defer=\"\" type=\"text/javascript\">\n",
       " \t$(function() {\n",
       " \t\t$(\".tab-bnk-spis\").stickyTableHeaders();\n",
       " \t});\n",
       " </script>]"
      ]
     },
     "execution_count": 269,
     "metadata": {},
     "output_type": "execute_result"
    }
   ],
   "source": [
    "table"
   ]
  }
 ],
 "metadata": {
  "kernelspec": {
   "display_name": "Python 3",
   "language": "python",
   "name": "python3"
  },
  "language_info": {
   "codemirror_mode": {
    "name": "ipython",
    "version": 3
   },
   "file_extension": ".py",
   "mimetype": "text/x-python",
   "name": "python",
   "nbconvert_exporter": "python",
   "pygments_lexer": "ipython3",
   "version": "3.7.0"
  }
 },
 "nbformat": 4,
 "nbformat_minor": 2
}
