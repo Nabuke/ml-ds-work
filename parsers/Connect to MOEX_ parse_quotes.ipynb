{
 "cells": [
  {
   "cell_type": "code",
   "execution_count": 6,
   "metadata": {},
   "outputs": [],
   "source": [
    "import datetime\n",
    "import pandas as pd\n",
    "import time\n",
    "from sqlalchemy import create_engine\n",
    "from sqlalchemy.ext.declarative import declarative_base\n",
    "engine = create_engine('sqlite:///C:\\\\investor\\\\db.sqlite3')\n",
    "import os"
   ]
  },
  {
   "cell_type": "code",
   "execution_count": 10,
   "metadata": {},
   "outputs": [],
   "source": [
    "BASE_DIR = os.path.dirname(os.path.dirname(os.path.abspath('db.sqlite3')))"
   ]
  },
  {
   "cell_type": "code",
   "execution_count": 11,
   "metadata": {},
   "outputs": [],
   "source": [
    "engine = create_engine('sqlite:///'+str(os.path.join(BASE_DIR, 'db.sqlite3')))"
   ]
  },
  {
   "cell_type": "code",
   "execution_count": 13,
   "metadata": {},
   "outputs": [
    {
     "data": {
      "text/plain": [
       "'sqlite:///C:\\\\Users\\\\1INVESTOR\\\\db.sqlite3'"
      ]
     },
     "execution_count": 13,
     "metadata": {},
     "output_type": "execute_result"
    }
   ],
   "source": [
    "'sqlite:///'+str(os.path.join(BASE_DIR, 'db.sqlite3'))"
   ]
  },
  {
   "cell_type": "code",
   "execution_count": null,
   "metadata": {},
   "outputs": [],
   "source": []
  },
  {
   "cell_type": "code",
   "execution_count": 2,
   "metadata": {},
   "outputs": [],
   "source": [
    "now = datetime.datetime.now()\n",
    "now_hour = int(time.strftime('%H', now.timetuple()))\n",
    "now_day = int(time.strftime('%w', now.timetuple()))\n",
    "if now_hour in [12,13,14,15,16,17,18,19,20,21,23] and now_day in [0,1,2,3,4]:\n",
    "    prices = []\n",
    "    url = 'https://iss.moex.com/iss/engines/stock/markets/shares/boards/TQBR/securities.html?securities.columns=SECID&marketdata.columns=SECID,BOARDID,LAST&iss.meta=off'\n",
    "    df = pd.read_html(url,encoding='utf-8')\n",
    "    quotes = df[1]\n",
    "    quotes = quotes.fillna(0)\n",
    "    quotes.columns = ['tiker','boardid','price']\n",
    "    quotes = quotes[quotes.price != 0].drop('boardid',axis=1)\n",
    "    quotes['dt_load']=now\n",
    "    quotes.to_sql('quotes', con=engine, if_exists='append',index=False)\n",
    "else:\n",
    "    print ('Сейчас сессия не идет')\n",
    "    print ('День:',time.strftime('%A', now.timetuple()),',',now)"
   ]
  },
  {
   "cell_type": "code",
   "execution_count": null,
   "metadata": {},
   "outputs": [],
   "source": []
  },
  {
   "cell_type": "code",
   "execution_count": null,
   "metadata": {},
   "outputs": [],
   "source": []
  },
  {
   "cell_type": "code",
   "execution_count": null,
   "metadata": {},
   "outputs": [],
   "source": []
  },
  {
   "cell_type": "code",
   "execution_count": null,
   "metadata": {},
   "outputs": [],
   "source": []
  },
  {
   "cell_type": "code",
   "execution_count": null,
   "metadata": {},
   "outputs": [],
   "source": []
  },
  {
   "cell_type": "code",
   "execution_count": null,
   "metadata": {},
   "outputs": [],
   "source": []
  }
 ],
 "metadata": {
  "kernelspec": {
   "display_name": "Python 3",
   "language": "python",
   "name": "python3"
  },
  "language_info": {
   "codemirror_mode": {
    "name": "ipython",
    "version": 3
   },
   "file_extension": ".py",
   "mimetype": "text/x-python",
   "name": "python",
   "nbconvert_exporter": "python",
   "pygments_lexer": "ipython3",
   "version": "3.7.0"
  }
 },
 "nbformat": 4,
 "nbformat_minor": 2
}
