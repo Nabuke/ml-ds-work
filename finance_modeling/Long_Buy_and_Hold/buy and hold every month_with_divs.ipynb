{
 "cells": [
  {
   "cell_type": "code",
   "execution_count": 1,
   "metadata": {},
   "outputs": [],
   "source": [
    "import numpy as np\n",
    "import pandas as pd\n",
    "import matplotlib.pyplot as plt\n",
    "%matplotlib inline"
   ]
  },
  {
   "cell_type": "markdown",
   "metadata": {},
   "source": [
    "### Checking stocks"
   ]
  },
  {
   "cell_type": "code",
   "execution_count": 2,
   "metadata": {},
   "outputs": [],
   "source": [
    "#stocks = ['CHMF','NLMK','GMKN','AKRN','VSMO','MAGN','TATNP','SNGSP','MTSS','SIBN','SBER','LKOH']\n",
    "stocks_all = ['NLMK','RASP','SBERP','SIBN','SNGSP','SVAV','VSMO','AFLT','GAZP','SBER','ROSN','SNGS','LKOH','RTKM','TATN','TATNP','MTSS','AKRN','CHMF','GMKN','MAGN','MGNT']"
   ]
  },
  {
   "cell_type": "code",
   "execution_count": 3,
   "metadata": {},
   "outputs": [],
   "source": [
    "def random_stocks():\n",
    "    stocks = []\n",
    "    len_stocks_all = len(stocks_all)\n",
    "    while True:\n",
    "        i = np.random.randint(len_stocks_all)\n",
    "        if len(stocks)==12:break\n",
    "        if stocks_all[i] in set(stocks):continue\n",
    "        stocks.append(stocks_all[i])\n",
    "    return stocks    "
   ]
  },
  {
   "cell_type": "code",
   "execution_count": 4,
   "metadata": {},
   "outputs": [
    {
     "data": {
      "text/plain": [
       "array([100], dtype=int64)"
      ]
     },
     "execution_count": 4,
     "metadata": {},
     "output_type": "execute_result"
    }
   ],
   "source": [
    "in_lot = pd.read_excel('stock_in_lot.xlsx')\n",
    "in_lot[in_lot.stock=='AFLT'].stock_in_lot.values"
   ]
  },
  {
   "cell_type": "code",
   "execution_count": 5,
   "metadata": {},
   "outputs": [],
   "source": [
    "divs = pd.read_excel('Dividends.xlsx',parse_dates=['date'])\n",
    "divs = pd.merge(divs, in_lot, left_on = 'tiker', right_on = 'stock').drop('stock',axis=1)\n",
    "divs['div_by_lot'] = divs.dividend*divs.stock_in_lot"
   ]
  },
  {
   "cell_type": "code",
   "execution_count": 6,
   "metadata": {},
   "outputs": [],
   "source": [
    "divs['month'] = divs['date'].apply(lambda x : x.month)\n",
    "divs['year'] = divs['date'].apply(lambda x : x.year)\n",
    "divs['month_id']=divs['year']*100+divs['month']"
   ]
  },
  {
   "cell_type": "markdown",
   "metadata": {},
   "source": [
    "Download Data"
   ]
  },
  {
   "cell_type": "code",
   "execution_count": 7,
   "metadata": {},
   "outputs": [],
   "source": [
    "prices = pd.DataFrame()\n",
    "for paper in stocks_all:\n",
    "    a = pd.read_csv(str(paper)+str('_070601_180903.csv'), parse_dates=[0])\n",
    "    a['paper'] = paper\n",
    "    a.columns = ['date', 'time', 'open', 'high', 'low', 'close','vol', 'paper']\n",
    "    a.drop(['time', 'open', 'high', 'low','vol'],axis=1,inplace=True)\n",
    "    a.close=a.close*in_lot[in_lot.stock==paper].stock_in_lot.values\n",
    "    prices = prices.append(a)\n",
    "#prices.columns = ['date', 'time', 'open', 'high', 'low', 'close','vol', 'paper']"
   ]
  },
  {
   "cell_type": "code",
   "execution_count": 8,
   "metadata": {},
   "outputs": [],
   "source": [
    "def rand_date(array):\n",
    "    len_ar = len(array)\n",
    "    position = np.random.randint(len_ar)\n",
    "    return array[position]"
   ]
  },
  {
   "cell_type": "code",
   "execution_count": 9,
   "metadata": {},
   "outputs": [],
   "source": [
    "prices['month'] = prices['date'].apply(lambda x : x.month)\n",
    "prices['year'] = prices['date'].apply(lambda x : x.year)\n",
    "prices['month_id']=prices['year']*100+prices['month']\n",
    "#prices = prices[prices.year>=2008]\n",
    "months = np.unique(np.sort(prices['month_id']))"
   ]
  },
  {
   "cell_type": "code",
   "execution_count": 10,
   "metadata": {},
   "outputs": [],
   "source": [
    "name = 'Ольга'"
   ]
  },
  {
   "cell_type": "code",
   "execution_count": 11,
   "metadata": {},
   "outputs": [
    {
     "data": {
      "text/html": [
       "<div>\n",
       "<style scoped>\n",
       "    .dataframe tbody tr th:only-of-type {\n",
       "        vertical-align: middle;\n",
       "    }\n",
       "\n",
       "    .dataframe tbody tr th {\n",
       "        vertical-align: top;\n",
       "    }\n",
       "\n",
       "    .dataframe thead th {\n",
       "        text-align: right;\n",
       "    }\n",
       "</style>\n",
       "<table border=\"1\" class=\"dataframe\">\n",
       "  <thead>\n",
       "    <tr style=\"text-align: right;\">\n",
       "      <th></th>\n",
       "      <th>tiker</th>\n",
       "      <th>date</th>\n",
       "      <th>dividend</th>\n",
       "      <th>stock_in_lot</th>\n",
       "      <th>div_by_lot</th>\n",
       "      <th>month</th>\n",
       "      <th>year</th>\n",
       "      <th>month_id</th>\n",
       "    </tr>\n",
       "  </thead>\n",
       "  <tbody>\n",
       "    <tr>\n",
       "      <th>0</th>\n",
       "      <td>AFLT</td>\n",
       "      <td>2003-03-07</td>\n",
       "      <td>0.29</td>\n",
       "      <td>100</td>\n",
       "      <td>29.0</td>\n",
       "      <td>3</td>\n",
       "      <td>2003</td>\n",
       "      <td>200303</td>\n",
       "    </tr>\n",
       "    <tr>\n",
       "      <th>1</th>\n",
       "      <td>AFLT</td>\n",
       "      <td>2004-04-19</td>\n",
       "      <td>0.43</td>\n",
       "      <td>100</td>\n",
       "      <td>43.0</td>\n",
       "      <td>4</td>\n",
       "      <td>2004</td>\n",
       "      <td>200404</td>\n",
       "    </tr>\n",
       "    <tr>\n",
       "      <th>2</th>\n",
       "      <td>AFLT</td>\n",
       "      <td>2005-04-30</td>\n",
       "      <td>0.70</td>\n",
       "      <td>100</td>\n",
       "      <td>70.0</td>\n",
       "      <td>4</td>\n",
       "      <td>2005</td>\n",
       "      <td>200504</td>\n",
       "    </tr>\n",
       "    <tr>\n",
       "      <th>3</th>\n",
       "      <td>AFLT</td>\n",
       "      <td>2006-04-29</td>\n",
       "      <td>0.82</td>\n",
       "      <td>100</td>\n",
       "      <td>82.0</td>\n",
       "      <td>4</td>\n",
       "      <td>2006</td>\n",
       "      <td>200604</td>\n",
       "    </tr>\n",
       "    <tr>\n",
       "      <th>4</th>\n",
       "      <td>AFLT</td>\n",
       "      <td>2007-05-07</td>\n",
       "      <td>1.29</td>\n",
       "      <td>100</td>\n",
       "      <td>129.0</td>\n",
       "      <td>5</td>\n",
       "      <td>2007</td>\n",
       "      <td>200705</td>\n",
       "    </tr>\n",
       "  </tbody>\n",
       "</table>\n",
       "</div>"
      ],
      "text/plain": [
       "  tiker       date  dividend  stock_in_lot  div_by_lot  month  year  month_id\n",
       "0  AFLT 2003-03-07      0.29           100        29.0      3  2003    200303\n",
       "1  AFLT 2004-04-19      0.43           100        43.0      4  2004    200404\n",
       "2  AFLT 2005-04-30      0.70           100        70.0      4  2005    200504\n",
       "3  AFLT 2006-04-29      0.82           100        82.0      4  2006    200604\n",
       "4  AFLT 2007-05-07      1.29           100       129.0      5  2007    200705"
      ]
     },
     "execution_count": 11,
     "metadata": {},
     "output_type": "execute_result"
    }
   ],
   "source": [
    "divs.head()"
   ]
  },
  {
   "cell_type": "code",
   "execution_count": 12,
   "metadata": {},
   "outputs": [
    {
     "data": {
      "text/html": [
       "<div>\n",
       "<style scoped>\n",
       "    .dataframe tbody tr th:only-of-type {\n",
       "        vertical-align: middle;\n",
       "    }\n",
       "\n",
       "    .dataframe tbody tr th {\n",
       "        vertical-align: top;\n",
       "    }\n",
       "\n",
       "    .dataframe thead th {\n",
       "        text-align: right;\n",
       "    }\n",
       "</style>\n",
       "<table border=\"1\" class=\"dataframe\">\n",
       "  <thead>\n",
       "    <tr style=\"text-align: right;\">\n",
       "      <th></th>\n",
       "      <th>date</th>\n",
       "      <th>close</th>\n",
       "      <th>paper</th>\n",
       "      <th>month</th>\n",
       "      <th>year</th>\n",
       "      <th>month_id</th>\n",
       "    </tr>\n",
       "  </thead>\n",
       "  <tbody>\n",
       "    <tr>\n",
       "      <th>0</th>\n",
       "      <td>2007-06-01</td>\n",
       "      <td>715.0</td>\n",
       "      <td>NLMK</td>\n",
       "      <td>6</td>\n",
       "      <td>2007</td>\n",
       "      <td>200706</td>\n",
       "    </tr>\n",
       "    <tr>\n",
       "      <th>1</th>\n",
       "      <td>2007-06-04</td>\n",
       "      <td>703.8</td>\n",
       "      <td>NLMK</td>\n",
       "      <td>6</td>\n",
       "      <td>2007</td>\n",
       "      <td>200706</td>\n",
       "    </tr>\n",
       "    <tr>\n",
       "      <th>2</th>\n",
       "      <td>2007-06-05</td>\n",
       "      <td>715.0</td>\n",
       "      <td>NLMK</td>\n",
       "      <td>6</td>\n",
       "      <td>2007</td>\n",
       "      <td>200706</td>\n",
       "    </tr>\n",
       "    <tr>\n",
       "      <th>3</th>\n",
       "      <td>2007-06-06</td>\n",
       "      <td>706.0</td>\n",
       "      <td>NLMK</td>\n",
       "      <td>6</td>\n",
       "      <td>2007</td>\n",
       "      <td>200706</td>\n",
       "    </tr>\n",
       "    <tr>\n",
       "      <th>4</th>\n",
       "      <td>2007-06-07</td>\n",
       "      <td>699.9</td>\n",
       "      <td>NLMK</td>\n",
       "      <td>6</td>\n",
       "      <td>2007</td>\n",
       "      <td>200706</td>\n",
       "    </tr>\n",
       "  </tbody>\n",
       "</table>\n",
       "</div>"
      ],
      "text/plain": [
       "        date  close paper  month  year  month_id\n",
       "0 2007-06-01  715.0  NLMK      6  2007    200706\n",
       "1 2007-06-04  703.8  NLMK      6  2007    200706\n",
       "2 2007-06-05  715.0  NLMK      6  2007    200706\n",
       "3 2007-06-06  706.0  NLMK      6  2007    200706\n",
       "4 2007-06-07  699.9  NLMK      6  2007    200706"
      ]
     },
     "execution_count": 12,
     "metadata": {},
     "output_type": "execute_result"
    }
   ],
   "source": [
    "prices.head()"
   ]
  },
  {
   "cell_type": "code",
   "execution_count": 13,
   "metadata": {
    "scrolled": false
   },
   "outputs": [
    {
     "name": "stdout",
     "output_type": "stream",
     "text": [
      "cikle =  0\n"
     ]
    },
    {
     "name": "stderr",
     "output_type": "stream",
     "text": [
      "C:\\Users\\1INVESTOR\\Anaconda3\\lib\\site-packages\\ipykernel_launcher.py:64: DeprecationWarning: The truth value of an empty array is ambiguous. Returning False, but in future this will result in an error. Use `array.size > 0` to check that an array is not empty.\n"
     ]
    },
    {
     "name": "stdout",
     "output_type": "stream",
     "text": [
      "row 0 . Score: [3.49739264] 5660.0 1069760.0 [3741370.74592]\n",
      "cikle =  1\n",
      "row 0 . Score: [3.28632322] 2872.0 690592.0 [2269508.5221]\n",
      "cikle =  2\n",
      "row 0 . Score: [2.9584494] 3844.0 822784.0 [2434164.82814]\n",
      "cikle =  3\n",
      "row 0 . Score: [2.42200168] 2175.0 595800.0 [1443028.6011]\n",
      "cikle =  4\n",
      "row 0 . Score: [3.07648051] 2402.0 626672.0 [1927944.19206]\n"
     ]
    }
   ],
   "source": [
    "for cikle in range(5):\n",
    "    try:\n",
    "        print ('cikle = ',cikle)\n",
    "        df_for_save = []\n",
    "        for index in range(1):\n",
    "            stocks = random_stocks()\n",
    "            # start balance, just for first time\n",
    "            last_balance = 1000.0\n",
    "\n",
    "            # start current money\n",
    "            cur_money = 300000.0\n",
    "\n",
    "            # save history\n",
    "            save_history = []\n",
    "\n",
    "            # massiv for saving our investments and deals\n",
    "            total_investments = []\n",
    "            total_investments.append(cur_money)\n",
    "            sdelki = []\n",
    "            divs_year= []\n",
    "\n",
    "            # part of portfolio for one stock\n",
    "            dolya = 1.0/len(stocks)\n",
    "\n",
    "            # create DF for saving information\n",
    "            a =np.vstack([stocks,[0]*len(stocks)])\n",
    "            portfolio = pd.DataFrame(a,columns=stocks).drop(0)\n",
    "            aktiv = pd.DataFrame(a,columns=stocks).drop(0)\n",
    "\n",
    "            # minimal sum for add every month\n",
    "            min_add_sum = 2000.0+np.random.randint(4000)\n",
    "\n",
    "            ##last_portfolio_bal = np.sum(aktiv)\n",
    "\n",
    "            ## comissions by MOEX and broker\n",
    "            comis = 0.001\n",
    "            depo_comis = 150\n",
    "\n",
    "\n",
    "\n",
    "            for idx, month in enumerate(months):\n",
    "                ## every month add money, growing function becose we have inflation\n",
    "                add_money = min_add_sum#*(1+idx/50.0)\n",
    "                ## current money on account\n",
    "                cur_money+=add_money\n",
    "                ## saving sum of our investments \n",
    "                total_investments.append(add_money)\n",
    "\n",
    "                ## take random day n month for investments - for exmaple\n",
    "                day = rand_date(prices[prices['month_id']==month].date.values)\n",
    "\n",
    "                ## take all preces our stocks in that day\n",
    "                price = prices[prices.date==day][['close','paper']]\n",
    "\n",
    "                ## check button \n",
    "                check=1 \n",
    "\n",
    "                # minus month comission for payment to depositary\n",
    "                cur_money-=depo_comis \n",
    "\n",
    "                while check!=0:\n",
    "                    for idz,stock in enumerate(stocks):\n",
    "                        wow_price = price[price.paper==stock].close.values\n",
    "                        if int(aktiv[stock].sum())*wow_price<dolya*(last_balance+cur_money):\n",
    "                            if cur_money - np.float(price[price['paper']==stock].close)*(1+comis)>0:\n",
    "\n",
    "                                cur_money = cur_money - np.float(price[price['paper']==stock].close)*(1+comis)\n",
    "                                #print ('after buy',paper,cur_money)\n",
    "                                sdelki.append([stock,1,day])\n",
    "                            else: \n",
    "                                sdelki.append([stock,0,day])\n",
    "                                check=0        \n",
    "                    sdelki1 = pd.DataFrame(sdelki)\n",
    "                    aktiv = pd.pivot_table(sdelki1, index=[2], columns=[0],aggfunc=sum,)\n",
    "                    aktiv = aktiv.fillna(0)\n",
    "                    aktiv.columns = aktiv.columns.levels[1]\n",
    "\n",
    "                    last_balance = cur_money\n",
    "                    for i in stocks:\n",
    "                        try: last_balance +=aktiv[i].sum()*price[price.paper==i].close.values\n",
    "                        except ValueError:\n",
    "                            continue\n",
    "\n",
    "                divs_now = divs[divs.month_id==month]\n",
    "\n",
    "                dividends = 0\n",
    "                for paper in aktiv.columns:\n",
    "                    dividend = 0\n",
    "                    if divs_now[divs_now.tiker==paper].div_by_lot.size>0:\n",
    "                        dividend = aktiv[paper].sum()*divs_now[divs_now.tiker==paper].div_by_lot.values\n",
    "                        divs_year.append([month,float(dividend)*0.87,paper])\n",
    "                    dividends += dividend\n",
    "\n",
    "                cur_money +=float(dividends)*0.87\n",
    "                #print (month, add_money,np.sum(total_investments),last_balance,dolya*last_balance,cur_money)\n",
    "                #if dividends>0: print (month,'In this month your dividend is ',dividends*0.87)\n",
    "\n",
    "                save_history.append([month,np.sum(total_investments),last_balance])\n",
    "            divs_year = pd.DataFrame(divs_year, columns=['month','money','paper'])\n",
    "            print ('row',index,'. Score:',(last_balance+cur_money)/np.sum(total_investments),add_money,np.sum(total_investments),last_balance+cur_money)\n",
    "            save_history = pd.DataFrame(save_history, columns = ['month','sum_investments','portfolio'])\n",
    "            df_for_save.append(np.hstack([add_money,np.sum(total_investments),last_balance+cur_money,(last_balance+cur_money)/np.sum(total_investments),divs_year.money.sum(),stocks]))\n",
    "#             plt.figure(figsize=(12,7))\n",
    "#             dates = pd.date_range(start='30/06/2007', periods=len(months), freq='M')\n",
    "#             plt.plot(dates, save_history.sum_investments)\n",
    "#             plt.plot(dates, save_history.portfolio)\n",
    "#             plt.title(stocks)\n",
    "#             plt.grid()\n",
    "#             plt.legend()\n",
    "#             plt.show()\n",
    "        df = pd.DataFrame(df_for_save)\n",
    "        sample=pd.read_excel('sample2012.xlsx',header=0)\n",
    "        sample = sample.append(df)\n",
    "        sample.to_excel('sample2012.xlsx')\n",
    "    except: \n",
    "        df = pd.DataFrame(df_for_save)\n",
    "        sample=pd.read_excel('sample2012.xlsx',header=0)\n",
    "        sample = sample.append(df)\n",
    "        sample.to_excel('sample2012.xlsx')\n",
    "        continue"
   ]
  },
  {
   "cell_type": "code",
   "execution_count": 14,
   "metadata": {},
   "outputs": [
    {
     "data": {
      "text/html": [
       "<div>\n",
       "<style scoped>\n",
       "    .dataframe tbody tr th:only-of-type {\n",
       "        vertical-align: middle;\n",
       "    }\n",
       "\n",
       "    .dataframe tbody tr th {\n",
       "        vertical-align: top;\n",
       "    }\n",
       "\n",
       "    .dataframe thead th {\n",
       "        text-align: right;\n",
       "    }\n",
       "</style>\n",
       "<table border=\"1\" class=\"dataframe\">\n",
       "  <thead>\n",
       "    <tr style=\"text-align: right;\">\n",
       "      <th></th>\n",
       "      <th>money</th>\n",
       "    </tr>\n",
       "    <tr>\n",
       "      <th>year</th>\n",
       "      <th></th>\n",
       "    </tr>\n",
       "  </thead>\n",
       "  <tbody>\n",
       "    <tr>\n",
       "      <th>2007</th>\n",
       "      <td>1426.6260</td>\n",
       "    </tr>\n",
       "    <tr>\n",
       "      <th>2008</th>\n",
       "      <td>6880.9170</td>\n",
       "    </tr>\n",
       "    <tr>\n",
       "      <th>2009</th>\n",
       "      <td>3125.2488</td>\n",
       "    </tr>\n",
       "    <tr>\n",
       "      <th>2010</th>\n",
       "      <td>4908.5922</td>\n",
       "    </tr>\n",
       "    <tr>\n",
       "      <th>2011</th>\n",
       "      <td>8562.4182</td>\n",
       "    </tr>\n",
       "    <tr>\n",
       "      <th>2012</th>\n",
       "      <td>14169.8379</td>\n",
       "    </tr>\n",
       "    <tr>\n",
       "      <th>2013</th>\n",
       "      <td>14103.4743</td>\n",
       "    </tr>\n",
       "    <tr>\n",
       "      <th>2014</th>\n",
       "      <td>38299.8969</td>\n",
       "    </tr>\n",
       "    <tr>\n",
       "      <th>2015</th>\n",
       "      <td>56849.2452</td>\n",
       "    </tr>\n",
       "    <tr>\n",
       "      <th>2016</th>\n",
       "      <td>66641.5563</td>\n",
       "    </tr>\n",
       "    <tr>\n",
       "      <th>2017</th>\n",
       "      <td>108618.8736</td>\n",
       "    </tr>\n",
       "    <tr>\n",
       "      <th>2018</th>\n",
       "      <td>84728.6040</td>\n",
       "    </tr>\n",
       "  </tbody>\n",
       "</table>\n",
       "</div>"
      ],
      "text/plain": [
       "            money\n",
       "year             \n",
       "2007    1426.6260\n",
       "2008    6880.9170\n",
       "2009    3125.2488\n",
       "2010    4908.5922\n",
       "2011    8562.4182\n",
       "2012   14169.8379\n",
       "2013   14103.4743\n",
       "2014   38299.8969\n",
       "2015   56849.2452\n",
       "2016   66641.5563\n",
       "2017  108618.8736\n",
       "2018   84728.6040"
      ]
     },
     "execution_count": 14,
     "metadata": {},
     "output_type": "execute_result"
    }
   ],
   "source": [
    "divs_year = pd.DataFrame(divs_year, columns=['month','money','paper'])\n",
    "divs_year['year'] = divs_year['month'].apply(lambda x : int(x/100.0))\n",
    "divs_year_total = pd.DataFrame(divs_year.groupby(['year'])['money'].sum())\n",
    "divs_year_total"
   ]
  },
  {
   "cell_type": "code",
   "execution_count": 15,
   "metadata": {},
   "outputs": [
    {
     "data": {
      "text/html": [
       "<div>\n",
       "<style scoped>\n",
       "    .dataframe tbody tr th:only-of-type {\n",
       "        vertical-align: middle;\n",
       "    }\n",
       "\n",
       "    .dataframe tbody tr th {\n",
       "        vertical-align: top;\n",
       "    }\n",
       "\n",
       "    .dataframe thead th {\n",
       "        text-align: right;\n",
       "    }\n",
       "</style>\n",
       "<table border=\"1\" class=\"dataframe\">\n",
       "  <thead>\n",
       "    <tr style=\"text-align: right;\">\n",
       "      <th></th>\n",
       "      <th>money</th>\n",
       "    </tr>\n",
       "    <tr>\n",
       "      <th>paper</th>\n",
       "      <th></th>\n",
       "    </tr>\n",
       "  </thead>\n",
       "  <tbody>\n",
       "    <tr>\n",
       "      <th>AFLT</th>\n",
       "      <td>58350.8130</td>\n",
       "    </tr>\n",
       "    <tr>\n",
       "      <th>CHMF</th>\n",
       "      <td>61305.6810</td>\n",
       "    </tr>\n",
       "    <tr>\n",
       "      <th>GAZP</th>\n",
       "      <td>27200.5500</td>\n",
       "    </tr>\n",
       "    <tr>\n",
       "      <th>LKOH</th>\n",
       "      <td>13810.3800</td>\n",
       "    </tr>\n",
       "    <tr>\n",
       "      <th>MAGN</th>\n",
       "      <td>43091.0130</td>\n",
       "    </tr>\n",
       "    <tr>\n",
       "      <th>MGNT</th>\n",
       "      <td>37312.8297</td>\n",
       "    </tr>\n",
       "    <tr>\n",
       "      <th>NLMK</th>\n",
       "      <td>32642.9220</td>\n",
       "    </tr>\n",
       "    <tr>\n",
       "      <th>ROSN</th>\n",
       "      <td>9921.3060</td>\n",
       "    </tr>\n",
       "    <tr>\n",
       "      <th>SNGS</th>\n",
       "      <td>6011.7000</td>\n",
       "    </tr>\n",
       "    <tr>\n",
       "      <th>SNGSP</th>\n",
       "      <td>62633.9100</td>\n",
       "    </tr>\n",
       "    <tr>\n",
       "      <th>VSMO</th>\n",
       "      <td>56034.1857</td>\n",
       "    </tr>\n",
       "  </tbody>\n",
       "</table>\n",
       "</div>"
      ],
      "text/plain": [
       "            money\n",
       "paper            \n",
       "AFLT   58350.8130\n",
       "CHMF   61305.6810\n",
       "GAZP   27200.5500\n",
       "LKOH   13810.3800\n",
       "MAGN   43091.0130\n",
       "MGNT   37312.8297\n",
       "NLMK   32642.9220\n",
       "ROSN    9921.3060\n",
       "SNGS    6011.7000\n",
       "SNGSP  62633.9100\n",
       "VSMO   56034.1857"
      ]
     },
     "execution_count": 15,
     "metadata": {},
     "output_type": "execute_result"
    }
   ],
   "source": [
    "divs_paper_total = pd.DataFrame(divs_year.groupby(['paper'])['money'].sum())\n",
    "divs_paper_total"
   ]
  },
  {
   "cell_type": "code",
   "execution_count": 16,
   "metadata": {},
   "outputs": [
    {
     "data": {
      "text/plain": [
       "[<matplotlib.lines.Line2D at 0x25349299d68>]"
      ]
     },
     "execution_count": 16,
     "metadata": {},
     "output_type": "execute_result"
    },
    {
     "data": {
      "image/png": "[encoded data removed]",
      "text/plain": [
       "<Figure size 432x288 with 1 Axes>"
      ]
     },
     "metadata": {
      "needs_background": "light"
     },
     "output_type": "display_data"
    }
   ],
   "source": [
    "plt.plot(divs_year.groupby('month')['money'].sum().values)"
   ]
  },
  {
   "cell_type": "code",
   "execution_count": 17,
   "metadata": {},
   "outputs": [
    {
     "data": {
      "text/plain": [
       "<matplotlib.axes._subplots.AxesSubplot at 0x253492db588>"
      ]
     },
     "execution_count": 17,
     "metadata": {},
     "output_type": "execute_result"
    },
    {
     "data": {
      "image/png": "[encoded data removed]",
      "text/plain": [
       "<Figure size 432x288 with 1 Axes>"
      ]
     },
     "metadata": {
      "needs_background": "light"
     },
     "output_type": "display_data"
    }
   ],
   "source": [
    "divs_year_total.plot()"
   ]
  },
  {
   "cell_type": "code",
   "execution_count": 18,
   "metadata": {},
   "outputs": [
    {
     "data": {
      "text/plain": [
       "0\n",
       "AFLT      20.0\n",
       "CHMF      19.0\n",
       "GAZP      90.0\n",
       "LKOH      20.0\n",
       "MAGN      59.0\n",
       "MGNT      35.0\n",
       "NLMK     101.0\n",
       "ROSN      28.0\n",
       "SNGS      22.0\n",
       "SNGSP     40.0\n",
       "SVAV      31.0\n",
       "VSMO      10.0\n",
       "dtype: float64"
      ]
     },
     "execution_count": 18,
     "metadata": {},
     "output_type": "execute_result"
    }
   ],
   "source": [
    "aktiv.sum()"
   ]
  },
  {
   "cell_type": "code",
   "execution_count": 19,
   "metadata": {},
   "outputs": [],
   "source": [
    "sdelki = pd.DataFrame(sdelki)"
   ]
  },
  {
   "cell_type": "code",
   "execution_count": 20,
   "metadata": {},
   "outputs": [],
   "source": [
    "aktiv = pd.pivot_table(sdelki, index=[2], columns=[0],aggfunc=np.sum)\n",
    "aktiv = aktiv.fillna(0)\n",
    "aktiv.columns = aktiv.columns.levels[1]"
   ]
  },
  {
   "cell_type": "code",
   "execution_count": 21,
   "metadata": {},
   "outputs": [
    {
     "name": "stdout",
     "output_type": "stream",
     "text": [
      "Total investments\n"
     ]
    },
    {
     "data": {
      "text/plain": [
       "626672.0"
      ]
     },
     "execution_count": 21,
     "metadata": {},
     "output_type": "execute_result"
    }
   ],
   "source": [
    "print ('Total investments')\n",
    "np.sum(total_investments)"
   ]
  },
  {
   "cell_type": "code",
   "execution_count": 22,
   "metadata": {},
   "outputs": [
    {
     "name": "stdout",
     "output_type": "stream",
     "text": [
      "Now portfolio wheight\n",
      "AFLT [228600.]\n",
      "SVAV [146320.]\n",
      "MGNT [141785.]\n",
      "MAGN [287271.]\n",
      "GAZP [134316.]\n",
      "CHMF [208316.]\n",
      "NLMK [170306.2]\n",
      "SNGSP [152720.]\n",
      "VSMO [169300.]\n",
      "ROSN [122892.]\n",
      "SNGS [63184.]\n",
      "LKOH [94310.]\n",
      "[1927712.93103]\n"
     ]
    }
   ],
   "source": [
    "print ('Now portfolio wheight')\n",
    "last_balance = 0\n",
    "for i in stocks:\n",
    "    last_balance +=aktiv[i].sum()*price[price.paper==i].close.values\n",
    "    print (i,aktiv[i].sum()*price[price.paper==i].close.values)\n",
    "print (last_balance+cur_money)"
   ]
  },
  {
   "cell_type": "code",
   "execution_count": 23,
   "metadata": {},
   "outputs": [
    {
     "data": {
      "text/html": [
       "<div>\n",
       "<style scoped>\n",
       "    .dataframe tbody tr th:only-of-type {\n",
       "        vertical-align: middle;\n",
       "    }\n",
       "\n",
       "    .dataframe tbody tr th {\n",
       "        vertical-align: top;\n",
       "    }\n",
       "\n",
       "    .dataframe thead th {\n",
       "        text-align: right;\n",
       "    }\n",
       "</style>\n",
       "<table border=\"1\" class=\"dataframe\">\n",
       "  <thead>\n",
       "    <tr style=\"text-align: right;\">\n",
       "      <th></th>\n",
       "      <th>AFLT</th>\n",
       "      <th>CHMF</th>\n",
       "      <th>GAZP</th>\n",
       "      <th>LKOH</th>\n",
       "      <th>MAGN</th>\n",
       "      <th>MGNT</th>\n",
       "      <th>NLMK</th>\n",
       "      <th>ROSN</th>\n",
       "      <th>SNGS</th>\n",
       "      <th>SNGSP</th>\n",
       "      <th>SVAV</th>\n",
       "      <th>VSMO</th>\n",
       "    </tr>\n",
       "    <tr>\n",
       "      <th>2</th>\n",
       "      <th></th>\n",
       "      <th></th>\n",
       "      <th></th>\n",
       "      <th></th>\n",
       "      <th></th>\n",
       "      <th></th>\n",
       "      <th></th>\n",
       "      <th></th>\n",
       "      <th></th>\n",
       "      <th></th>\n",
       "      <th></th>\n",
       "      <th></th>\n",
       "    </tr>\n",
       "  </thead>\n",
       "  <tbody>\n",
       "    <tr>\n",
       "      <th>2018-05-11</th>\n",
       "      <td>0.0</td>\n",
       "      <td>0.0</td>\n",
       "      <td>1.0</td>\n",
       "      <td>0.0</td>\n",
       "      <td>0.0</td>\n",
       "      <td>0.0</td>\n",
       "      <td>0.0</td>\n",
       "      <td>0.0</td>\n",
       "      <td>0.0</td>\n",
       "      <td>0.0</td>\n",
       "      <td>0.0</td>\n",
       "      <td>0.0</td>\n",
       "    </tr>\n",
       "    <tr>\n",
       "      <th>2018-06-15</th>\n",
       "      <td>0.0</td>\n",
       "      <td>0.0</td>\n",
       "      <td>1.0</td>\n",
       "      <td>0.0</td>\n",
       "      <td>0.0</td>\n",
       "      <td>0.0</td>\n",
       "      <td>0.0</td>\n",
       "      <td>0.0</td>\n",
       "      <td>1.0</td>\n",
       "      <td>0.0</td>\n",
       "      <td>0.0</td>\n",
       "      <td>0.0</td>\n",
       "    </tr>\n",
       "    <tr>\n",
       "      <th>2018-07-03</th>\n",
       "      <td>0.0</td>\n",
       "      <td>0.0</td>\n",
       "      <td>1.0</td>\n",
       "      <td>1.0</td>\n",
       "      <td>0.0</td>\n",
       "      <td>2.0</td>\n",
       "      <td>1.0</td>\n",
       "      <td>1.0</td>\n",
       "      <td>1.0</td>\n",
       "      <td>1.0</td>\n",
       "      <td>1.0</td>\n",
       "      <td>0.0</td>\n",
       "    </tr>\n",
       "    <tr>\n",
       "      <th>2018-08-16</th>\n",
       "      <td>0.0</td>\n",
       "      <td>0.0</td>\n",
       "      <td>2.0</td>\n",
       "      <td>1.0</td>\n",
       "      <td>0.0</td>\n",
       "      <td>2.0</td>\n",
       "      <td>1.0</td>\n",
       "      <td>2.0</td>\n",
       "      <td>2.0</td>\n",
       "      <td>2.0</td>\n",
       "      <td>1.0</td>\n",
       "      <td>0.0</td>\n",
       "    </tr>\n",
       "    <tr>\n",
       "      <th>2018-09-03</th>\n",
       "      <td>0.0</td>\n",
       "      <td>0.0</td>\n",
       "      <td>0.0</td>\n",
       "      <td>0.0</td>\n",
       "      <td>0.0</td>\n",
       "      <td>1.0</td>\n",
       "      <td>0.0</td>\n",
       "      <td>0.0</td>\n",
       "      <td>0.0</td>\n",
       "      <td>0.0</td>\n",
       "      <td>0.0</td>\n",
       "      <td>0.0</td>\n",
       "    </tr>\n",
       "  </tbody>\n",
       "</table>\n",
       "</div>"
      ],
      "text/plain": [
       "0           AFLT  CHMF  GAZP  LKOH  MAGN  MGNT  NLMK  ROSN  SNGS  SNGSP  SVAV  \\\n",
       "2                                                                               \n",
       "2018-05-11   0.0   0.0   1.0   0.0   0.0   0.0   0.0   0.0   0.0    0.0   0.0   \n",
       "2018-06-15   0.0   0.0   1.0   0.0   0.0   0.0   0.0   0.0   1.0    0.0   0.0   \n",
       "2018-07-03   0.0   0.0   1.0   1.0   0.0   2.0   1.0   1.0   1.0    1.0   1.0   \n",
       "2018-08-16   0.0   0.0   2.0   1.0   0.0   2.0   1.0   2.0   2.0    2.0   1.0   \n",
       "2018-09-03   0.0   0.0   0.0   0.0   0.0   1.0   0.0   0.0   0.0    0.0   0.0   \n",
       "\n",
       "0           VSMO  \n",
       "2                 \n",
       "2018-05-11   0.0  \n",
       "2018-06-15   0.0  \n",
       "2018-07-03   0.0  \n",
       "2018-08-16   0.0  \n",
       "2018-09-03   0.0  "
      ]
     },
     "execution_count": 23,
     "metadata": {},
     "output_type": "execute_result"
    }
   ],
   "source": [
    "aktiv.tail()"
   ]
  },
  {
   "cell_type": "code",
   "execution_count": 24,
   "metadata": {},
   "outputs": [
    {
     "data": {
      "text/html": [
       "<div>\n",
       "<style scoped>\n",
       "    .dataframe tbody tr th:only-of-type {\n",
       "        vertical-align: middle;\n",
       "    }\n",
       "\n",
       "    .dataframe tbody tr th {\n",
       "        vertical-align: top;\n",
       "    }\n",
       "\n",
       "    .dataframe thead th {\n",
       "        text-align: right;\n",
       "    }\n",
       "</style>\n",
       "<table border=\"1\" class=\"dataframe\">\n",
       "  <thead>\n",
       "    <tr style=\"text-align: right;\">\n",
       "      <th></th>\n",
       "      <th>close</th>\n",
       "      <th>paper</th>\n",
       "    </tr>\n",
       "  </thead>\n",
       "  <tbody>\n",
       "    <tr>\n",
       "      <th>2817</th>\n",
       "      <td>1686.2</td>\n",
       "      <td>NLMK</td>\n",
       "    </tr>\n",
       "    <tr>\n",
       "      <th>2817</th>\n",
       "      <td>995.1</td>\n",
       "      <td>RASP</td>\n",
       "    </tr>\n",
       "    <tr>\n",
       "      <th>2816</th>\n",
       "      <td>1580.3</td>\n",
       "      <td>SBERP</td>\n",
       "    </tr>\n",
       "    <tr>\n",
       "      <th>2818</th>\n",
       "      <td>3386.0</td>\n",
       "      <td>SIBN</td>\n",
       "    </tr>\n",
       "    <tr>\n",
       "      <th>2818</th>\n",
       "      <td>3818.0</td>\n",
       "      <td>SNGSP</td>\n",
       "    </tr>\n",
       "    <tr>\n",
       "      <th>2815</th>\n",
       "      <td>4720.0</td>\n",
       "      <td>SVAV</td>\n",
       "    </tr>\n",
       "    <tr>\n",
       "      <th>2817</th>\n",
       "      <td>16930.0</td>\n",
       "      <td>VSMO</td>\n",
       "    </tr>\n",
       "    <tr>\n",
       "      <th>2818</th>\n",
       "      <td>11430.0</td>\n",
       "      <td>AFLT</td>\n",
       "    </tr>\n",
       "    <tr>\n",
       "      <th>2818</th>\n",
       "      <td>1492.4</td>\n",
       "      <td>GAZP</td>\n",
       "    </tr>\n",
       "    <tr>\n",
       "      <th>2816</th>\n",
       "      <td>1815.5</td>\n",
       "      <td>SBER</td>\n",
       "    </tr>\n",
       "    <tr>\n",
       "      <th>2818</th>\n",
       "      <td>4389.0</td>\n",
       "      <td>ROSN</td>\n",
       "    </tr>\n",
       "    <tr>\n",
       "      <th>2818</th>\n",
       "      <td>2872.0</td>\n",
       "      <td>SNGS</td>\n",
       "    </tr>\n",
       "    <tr>\n",
       "      <th>2818</th>\n",
       "      <td>4715.5</td>\n",
       "      <td>LKOH</td>\n",
       "    </tr>\n",
       "    <tr>\n",
       "      <th>2808</th>\n",
       "      <td>675.1</td>\n",
       "      <td>RTKM</td>\n",
       "    </tr>\n",
       "    <tr>\n",
       "      <th>2816</th>\n",
       "      <td>7879.0</td>\n",
       "      <td>TATN</td>\n",
       "    </tr>\n",
       "    <tr>\n",
       "      <th>2817</th>\n",
       "      <td>5342.0</td>\n",
       "      <td>TATNP</td>\n",
       "    </tr>\n",
       "    <tr>\n",
       "      <th>2809</th>\n",
       "      <td>2630.5</td>\n",
       "      <td>MTSS</td>\n",
       "    </tr>\n",
       "    <tr>\n",
       "      <th>2817</th>\n",
       "      <td>4592.0</td>\n",
       "      <td>AKRN</td>\n",
       "    </tr>\n",
       "    <tr>\n",
       "      <th>2817</th>\n",
       "      <td>10964.0</td>\n",
       "      <td>CHMF</td>\n",
       "    </tr>\n",
       "    <tr>\n",
       "      <th>2818</th>\n",
       "      <td>11272.0</td>\n",
       "      <td>GMKN</td>\n",
       "    </tr>\n",
       "    <tr>\n",
       "      <th>2817</th>\n",
       "      <td>4869.0</td>\n",
       "      <td>MAGN</td>\n",
       "    </tr>\n",
       "    <tr>\n",
       "      <th>2818</th>\n",
       "      <td>4051.0</td>\n",
       "      <td>MGNT</td>\n",
       "    </tr>\n",
       "  </tbody>\n",
       "</table>\n",
       "</div>"
      ],
      "text/plain": [
       "        close  paper\n",
       "2817   1686.2   NLMK\n",
       "2817    995.1   RASP\n",
       "2816   1580.3  SBERP\n",
       "2818   3386.0   SIBN\n",
       "2818   3818.0  SNGSP\n",
       "2815   4720.0   SVAV\n",
       "2817  16930.0   VSMO\n",
       "2818  11430.0   AFLT\n",
       "2818   1492.4   GAZP\n",
       "2816   1815.5   SBER\n",
       "2818   4389.0   ROSN\n",
       "2818   2872.0   SNGS\n",
       "2818   4715.5   LKOH\n",
       "2808    675.1   RTKM\n",
       "2816   7879.0   TATN\n",
       "2817   5342.0  TATNP\n",
       "2809   2630.5   MTSS\n",
       "2817   4592.0   AKRN\n",
       "2817  10964.0   CHMF\n",
       "2818  11272.0   GMKN\n",
       "2817   4869.0   MAGN\n",
       "2818   4051.0   MGNT"
      ]
     },
     "execution_count": 24,
     "metadata": {},
     "output_type": "execute_result"
    }
   ],
   "source": [
    "price"
   ]
  },
  {
   "cell_type": "code",
   "execution_count": null,
   "metadata": {},
   "outputs": [],
   "source": []
  },
  {
   "cell_type": "code",
   "execution_count": null,
   "metadata": {},
   "outputs": [],
   "source": []
  }
 ],
 "metadata": {
  "kernelspec": {
   "display_name": "Python 3",
   "language": "python",
   "name": "python3"
  },
  "language_info": {
   "codemirror_mode": {
    "name": "ipython",
    "version": 3
   },
   "file_extension": ".py",
   "mimetype": "text/x-python",
   "name": "python",
   "nbconvert_exporter": "python",
   "pygments_lexer": "ipython3",
   "version": "3.7.0"
  }
 },
 "nbformat": 4,
 "nbformat_minor": 2
}
